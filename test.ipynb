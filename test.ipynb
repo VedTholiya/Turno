{
 "cells": [
  {
   "cell_type": "code",
   "execution_count": 2,
   "id": "01c9bce3",
   "metadata": {},
   "outputs": [],
   "source": [
    "import pandas as pd\n",
    "import numpy as np\n",
    "import matplotlib.pyplot as plt"
   ]
  },
  {
   "cell_type": "code",
   "execution_count": 3,
   "id": "7f8ee28e",
   "metadata": {},
   "outputs": [
    {
     "name": "stdout",
     "output_type": "stream",
     "text": [
      "(1+2j)\n"
     ]
    }
   ],
   "source": [
    "num = complex(1,2)\n",
    "print(num)"
   ]
  },
  {
   "cell_type": "code",
   "execution_count": 4,
   "id": "653745f3",
   "metadata": {},
   "outputs": [
    {
     "name": "stdout",
     "output_type": "stream",
     "text": [
      "True\n"
     ]
    }
   ],
   "source": [
    "j = True\n",
    "print(j)"
   ]
  },
  {
   "cell_type": "code",
   "execution_count": 5,
   "id": "c4662100",
   "metadata": {},
   "outputs": [
    {
     "name": "stdout",
     "output_type": "stream",
     "text": [
      "2399698555248\n",
      "2399635676912\n",
      "yield\n"
     ]
    }
   ],
   "source": [
    "st = \"hello\" \n",
    "print(id(st))\n",
    "\n",
    "\n",
    "st = 'yield'\n",
    "print(id(st))\n",
    "\n",
    "\n",
    "print(st)"
   ]
  },
  {
   "cell_type": "code",
   "execution_count": null,
   "id": "fda7364b",
   "metadata": {},
   "outputs": [],
   "source": []
  },
  {
   "cell_type": "code",
   "execution_count": 6,
   "id": "68c9a4a5",
   "metadata": {},
   "outputs": [
    {
     "name": "stdout",
     "output_type": "stream",
     "text": [
      "2\n"
     ]
    }
   ],
   "source": [
    "print(-28%10)"
   ]
  },
  {
   "cell_type": "code",
   "execution_count": 7,
   "id": "33e30360",
   "metadata": {},
   "outputs": [
    {
     "name": "stdout",
     "output_type": "stream",
     "text": [
      "0\n"
     ]
    }
   ],
   "source": [
    "n1 = 3\n",
    "n2 = 4\n",
    "print(n1 &  n2)"
   ]
  },
  {
   "cell_type": "code",
   "execution_count": 8,
   "id": "7b1b1ceb",
   "metadata": {},
   "outputs": [
    {
     "name": "stdout",
     "output_type": "stream",
     "text": [
      "False\n"
     ]
    }
   ],
   "source": [
    "m = True \n",
    "print( not m)"
   ]
  },
  {
   "cell_type": "code",
   "execution_count": 9,
   "id": "b92ccf6b",
   "metadata": {},
   "outputs": [
    {
     "name": "stdout",
     "output_type": "stream",
     "text": [
      "False\n"
     ]
    }
   ],
   "source": [
    "print('b'<'a')"
   ]
  },
  {
   "cell_type": "code",
   "execution_count": 10,
   "id": "e951ba2b",
   "metadata": {},
   "outputs": [
    {
     "name": "stdout",
     "output_type": "stream",
     "text": [
      "False\n"
     ]
    }
   ],
   "source": [
    "sst = \"Hi Im ved\" \n",
    "print('vded' in sst)"
   ]
  },
  {
   "cell_type": "code",
   "execution_count": 11,
   "id": "3435e183",
   "metadata": {},
   "outputs": [
    {
     "name": "stdout",
     "output_type": "stream",
     "text": [
      "86\n"
     ]
    }
   ],
   "source": [
    "my_string = \"0123456789\"\n",
    "print(my_string[-2: -6: -2])"
   ]
  },
  {
   "cell_type": "code",
   "execution_count": 12,
   "id": "a43c7e0f",
   "metadata": {},
   "outputs": [],
   "source": [
    "n = 15"
   ]
  },
  {
   "cell_type": "code",
   "execution_count": 13,
   "id": "4f2d9c1c",
   "metadata": {},
   "outputs": [],
   "source": [
    "def tt(n):\n",
    "    n *= 10\n",
    "    # num = n\n",
    "    # print('The value is', num)\n",
    "    return n"
   ]
  },
  {
   "cell_type": "code",
   "execution_count": 14,
   "id": "4d6cc84b",
   "metadata": {},
   "outputs": [
    {
     "data": {
      "text/plain": [
       "150"
      ]
     },
     "execution_count": 14,
     "metadata": {},
     "output_type": "execute_result"
    }
   ],
   "source": [
    "tt(n)"
   ]
  },
  {
   "cell_type": "code",
   "execution_count": 15,
   "id": "0d092f7a",
   "metadata": {},
   "outputs": [
    {
     "name": "stdout",
     "output_type": "stream",
     "text": [
      "15\n"
     ]
    }
   ],
   "source": [
    "print(n)"
   ]
  },
  {
   "cell_type": "code",
   "execution_count": 16,
   "id": "5bad2269",
   "metadata": {},
   "outputs": [
    {
     "name": "stdout",
     "output_type": "stream",
     "text": [
      "Welcome to Educative!\n",
      "Greetings from Educative!\n"
     ]
    }
   ],
   "source": [
    "a_string = \"Welcome to Educative!\"\n",
    "new_string = a_string.replace(\"Welcome to\", \"Greetings from\")\n",
    "print(a_string)\n",
    "print(new_string)\n"
   ]
  },
  {
   "cell_type": "code",
   "execution_count": 17,
   "id": "283dc140",
   "metadata": {},
   "outputs": [
    {
     "name": "stdout",
     "output_type": "stream",
     "text": [
      "a>>b>>c\n",
      "a<<b<<c\n",
      "a, b, c\n"
     ]
    }
   ],
   "source": [
    "llist = ['a', 'b', 'c']\n",
    "print('>>'.join(llist)) # joining strings with >>\n",
    "print('<<'.join(llist)) # joining strings with <<\n",
    "print(', '.join(llist)) # joining strings with comma and space"
   ]
  },
  {
   "cell_type": "code",
   "execution_count": 18,
   "id": "4aedd01f",
   "metadata": {},
   "outputs": [
    {
     "name": "stdout",
     "output_type": "stream",
     "text": [
      "Learn Python 3 at Educative\n",
      "Learn Python 3 at Educative\n",
      "Learn Python 3 at Educative\n"
     ]
    }
   ],
   "source": [
    "string1 = \"Learn Python {version} at {cname}\".format(version = 3, cname = \"Educative\")\n",
    "string2 = \"Learn Python {0} at {1}\".format(3, \"Educative\")\n",
    "string3 = \"Learn Python {} at {}\".format(3, \"Educative\")\n",
    "print(string1)\n",
    "print(string2)\n",
    "print(string3)"
   ]
  },
  {
   "cell_type": "code",
   "execution_count": 19,
   "id": "96f5da50",
   "metadata": {},
   "outputs": [
    {
     "name": "stdout",
     "output_type": "stream",
     "text": [
      "High\n"
     ]
    }
   ],
   "source": [
    "my_func = lambda num: \"High\" if num > 50 else \"Low\"\"\" \n",
    "print(my_func(60))"
   ]
  },
  {
   "cell_type": "code",
   "execution_count": 20,
   "id": "c4a15e91",
   "metadata": {},
   "outputs": [
    {
     "name": "stdout",
     "output_type": "stream",
     "text": [
      "200\n",
      "30\n"
     ]
    }
   ],
   "source": [
    "def calculator (operation, n1, n2):\n",
    "    return operation (n1, n2) # Using the 'operation' argument as a function\n",
    "\n",
    "\n",
    "# 10 and 20 are the arguments.\n",
    "result = calculator (lambda n1, n2: n1 * n2, 10, 20)\n",
    "\n",
    "# The lambda multiplies them.\n",
    "print(result)\n",
    "print(calculator (lambda n1, n2: n1 + n2, 10, 20))\n",
    "\n"
   ]
  },
  {
   "cell_type": "code",
   "execution_count": 21,
   "id": "acc13182",
   "metadata": {},
   "outputs": [
    {
     "name": "stdout",
     "output_type": "stream",
     "text": [
      "[0, 2, 4, 6, 8, 10]\n",
      "[]\n"
     ]
    }
   ],
   "source": [
    "num_list = [0, 1, 2, 3, 4, 5]\n",
    "\n",
    "double_list = map(lambda n: n * 2, num_list)\n",
    "\n",
    "print(list(double_list))\n",
    "# The error occurs if 'list' was redefined as a variable earlier in the notebook.\n",
    "# To fix, ensure 'list' is not assigned as a variable name.\n",
    "# If you accidentally did: list = [1,2,3], restart the kernel or delete that assignment.\n",
    "# Here is the correct usage:\n",
    "print(list(double_list))"
   ]
  },
  {
   "cell_type": "code",
   "execution_count": 22,
   "id": "4e3555a7",
   "metadata": {},
   "outputs": [
    {
     "name": "stdout",
     "output_type": "stream",
     "text": [
      "3\n",
      "2\n",
      "1\n",
      "0\n",
      "1\n",
      "2\n",
      "3\n"
     ]
    }
   ],
   "source": [
    "def rec_count(number):\n",
    "\n",
    "    print(number)\n",
    "    # Base case\n",
    "    if number == 0:\n",
    "        return 0\n",
    "    rec_count(number-1)\n",
    "    # A recursive call with a different argument\n",
    "    print(number)\n",
    "rec_count(3)"
   ]
  },
  {
   "cell_type": "code",
   "execution_count": 23,
   "id": "b79a885b",
   "metadata": {},
   "outputs": [],
   "source": [
    "def rep_cat(x,y):\n",
    "    a = str(x)\n",
    "    a *= 10\n",
    "    b = str(y)\n",
    "    b *= 7\n",
    "    return a + b"
   ]
  },
  {
   "cell_type": "code",
   "execution_count": 24,
   "id": "ba447476",
   "metadata": {},
   "outputs": [
    {
     "data": {
      "text/plain": [
       "'33333333334444444'"
      ]
     },
     "execution_count": 24,
     "metadata": {},
     "output_type": "execute_result"
    }
   ],
   "source": [
    "rep_cat(3,4)"
   ]
  },
  {
   "cell_type": "code",
   "execution_count": 25,
   "id": "23b0fd99",
   "metadata": {},
   "outputs": [],
   "source": [
    "def factorial(n):\n",
    "    if n == 0:\n",
    "        return 1\n",
    "    elif n ==1:\n",
    "        return 1\n",
    "    else:\n",
    "        return factorial(n-1) * n"
   ]
  },
  {
   "cell_type": "code",
   "execution_count": 26,
   "id": "e3bd76ff",
   "metadata": {},
   "outputs": [
    {
     "data": {
      "text/plain": [
       "120"
      ]
     },
     "execution_count": 26,
     "metadata": {},
     "output_type": "execute_result"
    }
   ],
   "source": [
    "factorial(5)"
   ]
  },
  {
   "cell_type": "code",
   "execution_count": 27,
   "id": "5d835395",
   "metadata": {},
   "outputs": [],
   "source": [
    "l = [1,2,3,6,7,9]"
   ]
  },
  {
   "cell_type": "code",
   "execution_count": 28,
   "id": "ce8736f8",
   "metadata": {},
   "outputs": [],
   "source": [
    "k = map(lambda x : x ** 2,l)"
   ]
  },
  {
   "cell_type": "code",
   "execution_count": 29,
   "id": "0427648a",
   "metadata": {},
   "outputs": [
    {
     "name": "stdout",
     "output_type": "stream",
     "text": [
      "<map object at 0x0000022EDAD1F7C0>\n"
     ]
    }
   ],
   "source": [
    "print(k)"
   ]
  },
  {
   "cell_type": "code",
   "execution_count": 30,
   "id": "2683b3bb",
   "metadata": {},
   "outputs": [
    {
     "name": "stdout",
     "output_type": "stream",
     "text": [
      "[1, 4, 9, 36, 49, 81]\n"
     ]
    }
   ],
   "source": [
    "print(list(k))"
   ]
  },
  {
   "cell_type": "code",
   "execution_count": 31,
   "id": "7e3b71f5",
   "metadata": {},
   "outputs": [
    {
     "name": "stdout",
     "output_type": "stream",
     "text": [
      "0\n",
      "1\n",
      "2\n",
      "4\n",
      "5\n",
      "7\n",
      "9\n"
     ]
    }
   ],
   "source": [
    "num_list = list(range(0, 10))\n",
    "for num in num_list:\n",
    "    if num == 3 or num == 6 or num == 8:\n",
    "        continue\n",
    "    print(num)"
   ]
  },
  {
   "cell_type": "code",
   "execution_count": 32,
   "id": "0dc181fa",
   "metadata": {},
   "outputs": [
    {
     "data": {
      "text/plain": [
       "[0, 1, 2, 3, 4, 5, 6, 7, 8, 9]"
      ]
     },
     "execution_count": 32,
     "metadata": {},
     "output_type": "execute_result"
    }
   ],
   "source": [
    "num_list"
   ]
  },
  {
   "cell_type": "code",
   "execution_count": 33,
   "id": "17a22cbc",
   "metadata": {},
   "outputs": [],
   "source": [
    "def check_balance (brackets):\n",
    "    check = 0\n",
    "\n",
    "    for bracket in brackets:\n",
    "        if bracket == '[': \n",
    "            check += 1\n",
    "\n",
    "        elif bracket == ']':\n",
    "           check -= 1\n",
    "\n",
    "        if check < 0:\n",
    "            break\n",
    "        \n",
    "    return check == 0\n",
    "    "
   ]
  },
  {
   "cell_type": "code",
   "execution_count": 34,
   "id": "0fe04f45",
   "metadata": {},
   "outputs": [
    {
     "name": "stdout",
     "output_type": "stream",
     "text": [
      "False\n"
     ]
    }
   ],
   "source": [
    "bracket_string = '[[[[]]'\n",
    "\n",
    "print(check_balance(bracket_string))"
   ]
  },
  {
   "cell_type": "code",
   "execution_count": 35,
   "id": "7795903a",
   "metadata": {},
   "outputs": [],
   "source": [
    "def check_sum(num):\n",
    "    for i in range(len(num)):\n",
    "        for j in range(i+1, len(num)):\n",
    "            if num[i]+ num[j] == 0:\n",
    "                return True\n",
    "            \n",
    "    return False"
   ]
  },
  {
   "cell_type": "code",
   "execution_count": 36,
   "id": "e2287f12",
   "metadata": {},
   "outputs": [],
   "source": [
    "num_1 = ([1,2,3,-3])"
   ]
  },
  {
   "cell_type": "code",
   "execution_count": 37,
   "id": "0ca93da5",
   "metadata": {},
   "outputs": [
    {
     "data": {
      "text/plain": [
       "True"
      ]
     },
     "execution_count": 37,
     "metadata": {},
     "output_type": "execute_result"
    }
   ],
   "source": [
    "check_sum(num_1)"
   ]
  },
  {
   "cell_type": "code",
   "execution_count": 38,
   "id": "23d45922",
   "metadata": {},
   "outputs": [],
   "source": [
    "def fib(n):\n",
    "    take = 0\n",
    "    if n == 0:\n",
    "        return 0\n",
    "    elif n == 1:\n",
    "        return 1\n",
    "    else:\n",
    "        for i in range(n-1):\n",
    "            take += i\n",
    "        \n",
    "        return take\n",
    "\n"
   ]
  },
  {
   "cell_type": "code",
   "execution_count": 39,
   "id": "ca36996a",
   "metadata": {},
   "outputs": [
    {
     "data": {
      "text/plain": [
       "15"
      ]
     },
     "execution_count": 39,
     "metadata": {},
     "output_type": "execute_result"
    }
   ],
   "source": [
    "fib(7)"
   ]
  },
  {
   "cell_type": "code",
   "execution_count": 40,
   "id": "df6916be",
   "metadata": {},
   "outputs": [],
   "source": [
    "# this code will compile\n",
    "class Employee:\n",
    "    # defining the properties and assigning them none\n",
    "    ID = None \n",
    "    salary = None\n",
    "    department = 11"
   ]
  },
  {
   "cell_type": "code",
   "execution_count": 41,
   "id": "d18c52b6",
   "metadata": {},
   "outputs": [],
   "source": [
    "obj = Employee()"
   ]
  },
  {
   "cell_type": "code",
   "execution_count": 42,
   "id": "e8c610d9",
   "metadata": {},
   "outputs": [
    {
     "name": "stdout",
     "output_type": "stream",
     "text": [
      "11\n"
     ]
    }
   ],
   "source": [
    "print(obj.department)"
   ]
  },
  {
   "cell_type": "code",
   "execution_count": 43,
   "id": "1a5d1b94",
   "metadata": {},
   "outputs": [
    {
     "name": "stdout",
     "output_type": "stream",
     "text": [
      "ID :  Human Resources\n",
      "Salary : 3789\n",
      "Department : 2500\n"
     ]
    }
   ],
   "source": [
    "class Employee:\n",
    "    # defining the properties and assigning them None\n",
    "    def __init__(self, ID, salary, department):\n",
    "        self.ID = ID\n",
    "        self.salary = salary\n",
    "        self.department = department\n",
    "    # creating an object of the Employee class with default parameters\n",
    "\n",
    "Steve = Employee (\"Human Resources\",3789, 2500)\n",
    "\n",
    "# Printing properties of Steve\n",
    "\n",
    "\n",
    "print(\"ID : \", Steve. ID)\n",
    "print(\"Salary :\", Steve.salary)\n",
    "print(\"Department :\", Steve.department)"
   ]
  },
  {
   "cell_type": "code",
   "execution_count": 44,
   "id": "3ea4956f",
   "metadata": {},
   "outputs": [
    {
     "name": "stdout",
     "output_type": "stream",
     "text": [
      "Steve\n",
      "ID :  None\n",
      "Salary : 0\n",
      "Department : None\n",
      "Mark\n",
      "ID : 3789\n",
      "Salary : 2500\n",
      "Department : Human Resources\n"
     ]
    }
   ],
   "source": [
    "class Employee:\n",
    "    # defining the properties and assigning None to them\n",
    "    def __init__(self, ID=None, salary=0, department=None):\n",
    "        self.ID = ID\n",
    "        self.salary = salary\n",
    "        self.department = department\n",
    "        # creating an object of the Employee class with default parameters\n",
    "Steve = Employee()\n",
    "Mark = Employee(\"3789\", 2500, \"Human Resources\")\n",
    "# Printing properties of Steve and Mark\n",
    "print(\"Steve\")\n",
    "print(\"ID : \", Steve. ID)\n",
    "print(\"Salary :\", Steve.salary)\n",
    "print(\"Department :\", Steve.department)\n",
    "print(\"Mark\")\n",
    "print(\"ID :\", Mark.ID)\n",
    "print(\"Salary :\", Mark.salary)\n",
    "print(\"Department :\", Mark.department)"
   ]
  },
  {
   "cell_type": "code",
   "execution_count": 45,
   "id": "f2a4eca7",
   "metadata": {},
   "outputs": [
    {
     "name": "stdout",
     "output_type": "stream",
     "text": [
      "Name: Mark\n",
      "Team Members:\n",
      "['Mark', 'Steve']\n",
      "\n",
      "Name: Steve\n",
      "Team Members:\n",
      "['Mark', 'Steve']\n"
     ]
    }
   ],
   "source": [
    "class Player:\n",
    "    teamName = 'Liverpool'\n",
    "    # class variables\n",
    "    teamMembers = []\n",
    "    \n",
    "    def __init__(self, name):\n",
    "        self.name = name\n",
    "        # creating instance variables\n",
    "        self.formerTeams = []\n",
    "        self.teamMembers.append(self.name)\n",
    "\n",
    "p1 = Player('Mark')\n",
    "p2 = Player('Steve')\n",
    "print(\"Name:\", p1.name)\n",
    "print(\"Team Members:\")\n",
    "print(p1.teamMembers)\n",
    "print(\"\")\n",
    "print(\"Name:\", p2.name)\n",
    "print(\"Team Members:\")\n",
    "print(p2.teamMembers)"
   ]
  },
  {
   "cell_type": "code",
   "execution_count": 46,
   "id": "525d71ab",
   "metadata": {},
   "outputs": [
    {
     "name": "stdout",
     "output_type": "stream",
     "text": [
      "Demo 1\n",
      "a = 1\n",
      "b = 2\n",
      "c = 3\n",
      "d = 5\n",
      "e = None\n",
      "\n",
      "\n",
      "Domo 2\n"
     ]
    },
    {
     "ename": "TypeError",
     "evalue": "Employee.demo() missing 1 required positional argument: 'c'",
     "output_type": "error",
     "traceback": [
      "\u001b[1;31m---------------------------------------------------------------------------\u001b[0m",
      "\u001b[1;31mTypeError\u001b[0m                                 Traceback (most recent call last)",
      "Cell \u001b[1;32mIn[46], line 25\u001b[0m\n\u001b[0;32m     23\u001b[0m \u001b[38;5;28mprint\u001b[39m(\u001b[38;5;124m\"\u001b[39m\u001b[38;5;130;01m\\n\u001b[39;00m\u001b[38;5;124m\"\u001b[39m)\n\u001b[0;32m     24\u001b[0m \u001b[38;5;28mprint\u001b[39m(\u001b[38;5;124m\"\u001b[39m\u001b[38;5;124mDomo 2\u001b[39m\u001b[38;5;124m\"\u001b[39m)\n\u001b[1;32m---> 25\u001b[0m \u001b[43mSteve\u001b[49m\u001b[38;5;241;43m.\u001b[39;49m\u001b[43mdemo\u001b[49m\u001b[43m(\u001b[49m\u001b[38;5;241;43m1\u001b[39;49m\u001b[43m,\u001b[49m\u001b[38;5;241;43m2\u001b[39;49m\u001b[43m)\u001b[49m\n",
      "\u001b[1;31mTypeError\u001b[0m: Employee.demo() missing 1 required positional argument: 'c'"
     ]
    }
   ],
   "source": [
    "class Employee:\n",
    "    # defining the properties and assigning them None to the\n",
    "    def __init__(self, ID=None, salary=None, department=None):\n",
    "        self.ID = ID\n",
    "        self.salary = salary\n",
    "        self.department = department\n",
    "        # method overloading\n",
    "    def demo(self, a, b, c, d = 5 , e=None):\n",
    "        print(\"a =\", a)\n",
    "        print(\"b =\", b)\n",
    "        print(\"c =\", c)\n",
    "        print(\"d =\", d)\n",
    "        print(\"e =\", e)\n",
    "    def tax(self, title=None):\n",
    "        return (self.salary * 0.2)\n",
    "    def salaryPerDay(self):\n",
    "        return (self.salary / 30)\n",
    "        # cerating an object of the Employee class\n",
    "Steve = Employee()\n",
    "# Printing properties of Steve\n",
    "print(\"Demo 1\")\n",
    "Steve.demo (1, 2, 3)\n",
    "print(\"\\n\")\n",
    "print(\"Domo 2\")\n",
    "Steve.demo(1,2)"
   ]
  },
  {
   "cell_type": "code",
   "execution_count": null,
   "id": "8f855735",
   "metadata": {},
   "outputs": [
    {
     "name": "stdout",
     "output_type": "stream",
     "text": [
      "Demo 1 (All required and some optional arguments passed):\n",
      "a = 1\n",
      "b = 2\n",
      "c = 3\n",
      "d = lol\n",
      "e = None\n",
      "\n",
      "Demo 2 (Only required arguments passed):\n",
      "a = 1\n",
      "b = 2\n",
      "c = 3\n",
      "d = 10\n",
      "e = Extra\n",
      "\n",
      "Tax on salary: 12000.0\n",
      "Salary per day: 2000.0\n"
     ]
    }
   ],
   "source": [
    "# Unlike in other programming languages, methods cannot be explicitly overloaded in Python\n",
    "# but can be implicitly overloaded.\n",
    "\n",
    "# In order to include optional arguments, we assign default values to those arguments\n",
    "# rather than creating a duplicate method with the same name.\n",
    "# If the user chooses not to assign a value to the optional parameter,\n",
    "# a default value will automatically be assigned to the variable.\n",
    "\n",
    "class Employee:\n",
    "    # Constructor with optional parameters (default = None)\n",
    "    def __init__(self, ID=None, salary=None, department=None):\n",
    "        self.ID = ID\n",
    "        self.salary = salary\n",
    "        self.department = department\n",
    "\n",
    "    # Method with optional parameters using default values\n",
    "    def demo(self, a, b, c, d='lol', e=None):\n",
    "        print(\"a =\", a)\n",
    "        print(\"b =\", b)\n",
    "        print(\"c =\", c)\n",
    "        print(\"d =\", d)\n",
    "        print(\"e =\", e)\n",
    "\n",
    "    # Method to calculate tax (20% of salary)\n",
    "    def tax(self, title=None):\n",
    "        return self.salary * 0.2 if self.salary else 0\n",
    "\n",
    "    # Method to calculate per day salary (assuming 30-day month)\n",
    "    def salaryPerDay(self):\n",
    "        return self.salary / 30 if self.salary else 0\n",
    "\n",
    "# Creating an object of the Employee class\n",
    "Steve = Employee(ID=101, salary=60000, department=\"Finance\")\n",
    "\n",
    "# Demonstrating implicit method overloading using default arguments\n",
    "print(\"Demo 1 (All required and some optional arguments passed):\")\n",
    "Steve.demo(1, 2, 3)\n",
    "\n",
    "print(\"\\nDemo 2 (Only required arguments passed):\")\n",
    "Steve.demo(1, 2, 3, 10, \"Extra\")\n",
    "\n",
    "# Using other methods\n",
    "print(\"\\nTax on salary:\", Steve.tax())\n",
    "print(\"Salary per day:\", Steve.salaryPerDay())\n"
   ]
  },
  {
   "cell_type": "code",
   "execution_count": null,
   "id": "d8b5d41f",
   "metadata": {},
   "outputs": [
    {
     "name": "stdout",
     "output_type": "stream",
     "text": [
      "I am a static method.\n",
      "I am a static method.\n"
     ]
    }
   ],
   "source": [
    "class Player:\n",
    "    teamName = 'Liverpool' # class variables\n",
    "    def __init__(self, name):\n",
    "        self.name = name # creating instance variables\n",
    "    @staticmethod\n",
    "    def demo():\n",
    "        print(\"I am a static method.\")\n",
    "\n",
    "p1 = Player('lol')\n",
    "p1.demo()\n",
    "Player.demo()"
   ]
  },
  {
   "cell_type": "code",
   "execution_count": null,
   "id": "888958c3",
   "metadata": {},
   "outputs": [],
   "source": [
    "class Point:\n",
    "\n",
    "\n",
    "    def __init__(self,x,y,z):\n",
    "\n",
    "        self.x = int(x)\n",
    "        self.y = int(y)\n",
    "        self.z = int(z) \n",
    "    \n",
    "    def sqsum(self):\n",
    "        return self.x **2 + self.y **2 + self.z **2"
   ]
  },
  {
   "cell_type": "code",
   "execution_count": null,
   "id": "f2ba2a1b",
   "metadata": {},
   "outputs": [],
   "source": [
    "o = Point(1,5,3)"
   ]
  },
  {
   "cell_type": "code",
   "execution_count": null,
   "id": "b8869b2b",
   "metadata": {},
   "outputs": [
    {
     "data": {
      "text/plain": [
       "35"
      ]
     },
     "execution_count": 123,
     "metadata": {},
     "output_type": "execute_result"
    }
   ],
   "source": [
    "o.sqsum()"
   ]
  },
  {
   "cell_type": "code",
   "execution_count": null,
   "id": "29b93e7d",
   "metadata": {},
   "outputs": [],
   "source": [
    "class student:\n",
    "    global total\n",
    "    total = 0\n",
    "    def __init__(self,name, phy= None,che = None, bio = None):\n",
    "        self.name = name\n",
    "        self.phy = phy\n",
    "        self.che = che\n",
    "        self.bio = bio\n",
    "\n",
    "\n",
    "    def totalobtained(self):\n",
    "        total = self.phy + self.che + self.bio\n",
    "        return total\n",
    "\n",
    "\n",
    "    def percentage(self):\n",
    "         return   ((self.phy + self.che + self.bio)/ 300)*100"
   ]
  },
  {
   "cell_type": "code",
   "execution_count": null,
   "id": "a78bd786",
   "metadata": {},
   "outputs": [],
   "source": [
    "p = student('Ravi',50,50,50)"
   ]
  },
  {
   "cell_type": "code",
   "execution_count": null,
   "id": "79370518",
   "metadata": {},
   "outputs": [
    {
     "data": {
      "text/plain": [
       "150"
      ]
     },
     "execution_count": 152,
     "metadata": {},
     "output_type": "execute_result"
    }
   ],
   "source": [
    "p.totalobtained()"
   ]
  },
  {
   "cell_type": "code",
   "execution_count": null,
   "id": "d6ab9692",
   "metadata": {},
   "outputs": [
    {
     "data": {
      "text/plain": [
       "50.0"
      ]
     },
     "execution_count": 153,
     "metadata": {},
     "output_type": "execute_result"
    }
   ],
   "source": [
    "p.percentage()"
   ]
  },
  {
   "cell_type": "code",
   "execution_count": null,
   "id": "c12bd4d9",
   "metadata": {},
   "outputs": [],
   "source": [
    "class calculator:\n",
    "\n",
    "    def __init__(self,n1,n2):\n",
    "        self.n1 = n1\n",
    "        self.n2 = n2\n",
    "\n",
    "    def sum(self):\n",
    "        return self.n1 + self.n2\n",
    "\n",
    "    def multiply(self):\n",
    "        return self.n1 * self.n2    \n",
    "    \n",
    "    def subtract(self):\n",
    "        return self.n1 - self.n2\n",
    "    \n",
    "    def divide(self):\n",
    "        return self.n2 / self.n1"
   ]
  },
  {
   "cell_type": "code",
   "execution_count": null,
   "id": "f2851008",
   "metadata": {},
   "outputs": [
    {
     "data": {
      "text/plain": [
       "9.4"
      ]
     },
     "execution_count": 167,
     "metadata": {},
     "output_type": "execute_result"
    }
   ],
   "source": [
    "obj = calculator(10, 94)\n",
    "# obj.sum()\n",
    "\n",
    "# obj.subtract()\n",
    "\n",
    "# obj.multiply()\n",
    "\n",
    "obj.divide()"
   ]
  },
  {
   "cell_type": "code",
   "execution_count": null,
   "id": "0b42977f",
   "metadata": {},
   "outputs": [
    {
     "name": "stdout",
     "output_type": "stream",
     "text": [
      "Before setting: steve1\n",
      "After setting: steve2\n"
     ]
    }
   ],
   "source": [
    "class User:\n",
    "    def __init__(self, username=None): # defining initializer\n",
    "        self.__username = username\n",
    "\n",
    "    def setUsername(self, x):\n",
    "        self.__username = x\n",
    "\n",
    "    def getUsername(self):\n",
    "        return (self.__username)\n",
    "    \n",
    "Steve = User('steve1')\n",
    "print('Before setting:', Steve.getUsername())\n",
    "Steve.setUsername('steve2')\n",
    "print('After setting:', Steve.getUsername())"
   ]
  },
  {
   "cell_type": "code",
   "execution_count": null,
   "id": "95f2f46d",
   "metadata": {},
   "outputs": [
    {
     "name": "stdout",
     "output_type": "stream",
     "text": [
      "Username: Bob\n",
      "User Bob logged in successfully.\n"
     ]
    }
   ],
   "source": [
    "# Good example: Using encapsulation and data hiding\n",
    "class User:\n",
    "    def __init__(self, userName, password):\n",
    "        self.__userName = userName      # private attribute\n",
    "        self.__password = password      # private attribute\n",
    "\n",
    "    def login(self, userName, password):\n",
    "        if self.__userName == userName and self.__password == password:\n",
    "            print(f\"User {userName} logged in successfully.\")\n",
    "        else:\n",
    "            print(\"Login failed! Invalid credentials.\")\n",
    "\n",
    "    # Getter for username\n",
    "    def get_userName(self):\n",
    "        return self.__userName\n",
    "\n",
    "    # Setter for password (could include validation logic)\n",
    "    def set_password(self, new_password):\n",
    "        self.__password = new_password\n",
    "\n",
    "# Creating a user object\n",
    "user2 = User(\"Bob\", \"securePass456\")\n",
    "\n",
    "# Attempting direct access (this will fail)\n",
    "# print(user2.__password)  # ❌ This will raise AttributeError\n",
    "\n",
    "# Correct access via methods\n",
    "print(\"Username:\", user2.get_userName())\n",
    "\n",
    "# Changing password using setter\n",
    "user2.set_password(\"newSecurePass789\")\n",
    "\n",
    "# Trying to log in with new password\n",
    "user2.login(\"Bob\", \"newSecurePass789\")\n"
   ]
  },
  {
   "cell_type": "code",
   "execution_count": null,
   "id": "294e183a",
   "metadata": {},
   "outputs": [],
   "source": [
    "class Rectangle:\n",
    "    def __init__(self,lenght = int, width = int):\n",
    "        self.length = lenght\n",
    "        self.width = width\n",
    "\n",
    "    \n",
    "    def area(self):\n",
    "        return self.length * self.width\n",
    "\n",
    "\n",
    "    def perimeter(self):\n",
    "        return 2*(self.length + self.width)\n",
    "    "
   ]
  },
  {
   "cell_type": "code",
   "execution_count": null,
   "id": "caf496aa",
   "metadata": {},
   "outputs": [],
   "source": [
    "a = Rectangle(10,10)"
   ]
  },
  {
   "cell_type": "code",
   "execution_count": null,
   "id": "01b1b600",
   "metadata": {},
   "outputs": [
    {
     "data": {
      "text/plain": [
       "100"
      ]
     },
     "execution_count": 178,
     "metadata": {},
     "output_type": "execute_result"
    }
   ],
   "source": [
    "a.area()"
   ]
  },
  {
   "cell_type": "code",
   "execution_count": null,
   "id": "380d7e6f",
   "metadata": {},
   "outputs": [
    {
     "data": {
      "text/plain": [
       "40"
      ]
     },
     "execution_count": 179,
     "metadata": {},
     "output_type": "execute_result"
    }
   ],
   "source": [
    "a.perimeter()"
   ]
  },
  {
   "cell_type": "code",
   "execution_count": null,
   "id": "a628b3cc",
   "metadata": {},
   "outputs": [],
   "source": [
    "class student:\n",
    "    def setName(self,name\n",
    "                ):\n",
    "        self.__name = name\n",
    "\n",
    "    def setRollNo(self, Roll):\n",
    "        self.__rollnumber = Roll\n",
    "\n",
    "    def getName(self) :\n",
    "        return self.__name \n",
    "\n",
    "    def getRollNo(self) :\n",
    "        return self.__rollnumber  "
   ]
  },
  {
   "cell_type": "code",
   "execution_count": null,
   "id": "06328a4c",
   "metadata": {},
   "outputs": [],
   "source": [
    "ding = student()"
   ]
  },
  {
   "cell_type": "code",
   "execution_count": null,
   "id": "07792295",
   "metadata": {},
   "outputs": [],
   "source": [
    "ding.setName('Ravi')"
   ]
  },
  {
   "cell_type": "code",
   "execution_count": null,
   "id": "c253a15e",
   "metadata": {},
   "outputs": [
    {
     "data": {
      "text/plain": [
       "'Ravi'"
      ]
     },
     "execution_count": 203,
     "metadata": {},
     "output_type": "execute_result"
    }
   ],
   "source": [
    "ding.getName()"
   ]
  },
  {
   "cell_type": "code",
   "execution_count": null,
   "id": "1050f8a7",
   "metadata": {},
   "outputs": [],
   "source": [
    "ding.setRollNo(20)"
   ]
  },
  {
   "cell_type": "code",
   "execution_count": null,
   "id": "da0c9acb",
   "metadata": {},
   "outputs": [
    {
     "data": {
      "text/plain": [
       "20"
      ]
     },
     "execution_count": 205,
     "metadata": {},
     "output_type": "execute_result"
    }
   ],
   "source": [
    "ding.getRollNo()"
   ]
  },
  {
   "cell_type": "code",
   "execution_count": null,
   "id": "eec6a9ea",
   "metadata": {},
   "outputs": [
    {
     "name": "stdout",
     "output_type": "stream",
     "text": [
      "I am from the Vehicle Class\n",
      "I am from the Car Class\n"
     ]
    }
   ],
   "source": [
    "class Vehicle:\n",
    "# defining the parent class\n",
    "    def display(self): # defining display method in the parent class\n",
    "        print(\"I am from the Vehicle Class\")\n",
    "\n",
    "class Car(Vehicle): \n",
    "\n",
    "    def display(self):\n",
    "        super().display()\n",
    "        print(\"I am from the Car Class\")\n",
    "\n",
    "obj1 = Car()\n",
    "\n",
    "obj1.display()"
   ]
  },
  {
   "cell_type": "code",
   "execution_count": null,
   "id": "03e52386",
   "metadata": {},
   "outputs": [
    {
     "name": "stdout",
     "output_type": "stream",
     "text": [
      "Manufacturer: Suzuki\n",
      "Color: Grey\n",
      "Model: 2015\n",
      "Door: 4\n"
     ]
    }
   ],
   "source": [
    "class Vehicle:\n",
    "\n",
    "    def __init__(self, make, color, model):\n",
    "\n",
    "        self.make = make\n",
    "        self.color = color\n",
    "        self.model = model\n",
    "\n",
    "\n",
    "    def printDetails(self):\n",
    "        print(\"Manufacturer:\", self.make)\n",
    "        print(\"Color:\", self.color)\n",
    "        print(\"Model:\", self.model)\n",
    "\n",
    "\n",
    "class Car(Vehicle):\n",
    "     def __init__(self, make, color, model, doors):\n",
    "        super().__init__(make, color, model)\n",
    "        self.doors = doors\n",
    "\n",
    "\n",
    "     def printCarDetails(self):\n",
    "        self.printDetails()\n",
    "        print(\"Door:\", self.doors)\n",
    "\n",
    "obj1 = Car(\"Suzuki\", \"Grey\", \"2015\", 4)\n",
    "obj1.printCarDetails()"
   ]
  },
  {
   "cell_type": "code",
   "execution_count": null,
   "id": "0198dda0",
   "metadata": {},
   "outputs": [],
   "source": [
    "class account:\n",
    "    def __init__(self,title = None,balance = 0):\n",
    "        self.title = title\n",
    "        self.balance = balance\n",
    "    \n",
    "    def deposit(self,amount):\n",
    "         self.balance += amount\n",
    "         return self.balance\n",
    "    \n",
    "    def withdrawl(self,amount):\n",
    "            self.balance -= amount\n",
    "            return self.balance\n",
    "        \n",
    "    def getBalance(self):\n",
    "        return self.balance\n",
    "    \n",
    "\n",
    "    \n",
    "class SavingsAccount(account):\n",
    "    def __init__(self, title=None, balance=0,interestRate = None):\n",
    "        super().__init__(title, balance)\n",
    "        self.interestRate = interestRate\n",
    "\n",
    "\n",
    "    def interest_amount(self):\n",
    "        return (self.balance * self.interestRate)/100\n",
    "      "
   ]
  },
  {
   "cell_type": "code",
   "execution_count": null,
   "id": "82ea0f11",
   "metadata": {},
   "outputs": [],
   "source": [
    "demo1 = SavingsAccount(\"Mark\",2000,5)"
   ]
  },
  {
   "cell_type": "code",
   "execution_count": null,
   "id": "653faa01",
   "metadata": {},
   "outputs": [
    {
     "data": {
      "text/plain": [
       "100.0"
      ]
     },
     "execution_count": 260,
     "metadata": {},
     "output_type": "execute_result"
    }
   ],
   "source": [
    "demo1.interest_amount()"
   ]
  },
  {
   "cell_type": "code",
   "execution_count": null,
   "id": "b1f8d0e1",
   "metadata": {},
   "outputs": [
    {
     "data": {
      "text/plain": [
       "'Mark'"
      ]
     },
     "execution_count": 261,
     "metadata": {},
     "output_type": "execute_result"
    }
   ],
   "source": [
    "demo1.title"
   ]
  },
  {
   "cell_type": "code",
   "execution_count": null,
   "id": "dab196b0",
   "metadata": {},
   "outputs": [
    {
     "data": {
      "text/plain": [
       "3000"
      ]
     },
     "execution_count": 262,
     "metadata": {},
     "output_type": "execute_result"
    }
   ],
   "source": [
    "demo1.deposit(1000)"
   ]
  },
  {
   "cell_type": "code",
   "execution_count": null,
   "id": "05d0bd50",
   "metadata": {},
   "outputs": [
    {
     "data": {
      "text/plain": [
       "3000"
      ]
     },
     "execution_count": 263,
     "metadata": {},
     "output_type": "execute_result"
    }
   ],
   "source": [
    "demo1.balance"
   ]
  },
  {
   "cell_type": "code",
   "execution_count": null,
   "id": "4b1b8299",
   "metadata": {},
   "outputs": [
    {
     "data": {
      "text/plain": [
       "150.0"
      ]
     },
     "execution_count": 264,
     "metadata": {},
     "output_type": "execute_result"
    }
   ],
   "source": [
    "demo1.interest_amount()"
   ]
  },
  {
   "cell_type": "code",
   "execution_count": null,
   "id": "cd829b9e",
   "metadata": {},
   "outputs": [
    {
     "name": "stdout",
     "output_type": "stream",
     "text": [
      "real of obj3: 5\n",
      "imag of obj3: 12\n",
      "real of obj4: 1\n",
      "imag of obj4: 2\n"
     ]
    }
   ],
   "source": [
    "class Com:\n",
    "    def __init__(self, real=0, imag=0):\n",
    "        self.real = real\n",
    "        self.imag = imag\n",
    "\n",
    "    def __add__(self, other): # overloading the `+` operator\n",
    "        temp = Com(self.real + other.real, self.imag + other.imag)\n",
    "        return temp\n",
    "    \n",
    "    def __sub__(self, other): # overloading the operator\n",
    "        temp = Com(self.real  - other.real, self.imag - other.imag)\n",
    "        return temp\n",
    "    \n",
    "obj1 =  Com(3, 7)\n",
    "\n",
    "obj2 = Com(2, 5)\n",
    "\n",
    "obj3 = obj1 + obj2\n",
    "obj4 = obj1 - obj2\n",
    "\n",
    "print(\"real of obj3:\", obj3.real)\n",
    "print(\"imag of obj3:\", obj3.imag)\n",
    "print(\"real of obj4:\", obj4.real)\n",
    "print(\"imag of obj4:\", obj4.imag)"
   ]
  },
  {
   "cell_type": "code",
   "execution_count": null,
   "id": "69f38b8e",
   "metadata": {},
   "outputs": [
    {
     "data": {
      "text/plain": [
       "3"
      ]
     },
     "execution_count": 269,
     "metadata": {},
     "output_type": "execute_result"
    }
   ],
   "source": [
    "obj1.real"
   ]
  },
  {
   "cell_type": "code",
   "execution_count": null,
   "id": "897e06c2",
   "metadata": {},
   "outputs": [
    {
     "name": "stdout",
     "output_type": "stream",
     "text": [
      "Woof woof\n",
      "Meow meow\n"
     ]
    }
   ],
   "source": [
    "class Dog:\n",
    "    def Speak(self):\n",
    "        print(\"Woof woof\")\n",
    "\n",
    "class Cat:\n",
    "    def Speak(self):\n",
    "        print(\"Meow meow\")\n",
    "\n",
    "class AnimalSound:\n",
    "    def Sound(self, animal):\n",
    "        animal.Speak()\n",
    "\n",
    "sound = AnimalSound()\n",
    "dog = Dog()\n",
    "cat = Cat()\n",
    "\n",
    "sound.Sound(dog)\n",
    "sound.Sound(cat)"
   ]
  },
  {
   "cell_type": "code",
   "execution_count": null,
   "id": "9e717765",
   "metadata": {},
   "outputs": [],
   "source": [
    "class shape:\n",
    "\n",
    "    sname = 'Ding Ding'\n",
    "    def getname(self):\n",
    "        return self.sname\n",
    "\n",
    "\n",
    "\n",
    "class XShape (shape):\n",
    "    # initializer\n",
    "    def __init__(self, name):\n",
    "        self.xsname = name\n",
    "\n",
    "    def getName(self):\n",
    "        # overriden method\n",
    "        return (super().getname() + ',' +  self.xsname)"
   ]
  },
  {
   "cell_type": "code",
   "execution_count": null,
   "id": "d8aa56f8",
   "metadata": {},
   "outputs": [
    {
     "data": {
      "text/plain": [
       "'Ding Ding,Circle'"
      ]
     },
     "execution_count": 287,
     "metadata": {},
     "output_type": "execute_result"
    }
   ],
   "source": [
    "circle = XShape(\"Circle\");\n",
    "circle.getName()"
   ]
  },
  {
   "cell_type": "code",
   "execution_count": null,
   "id": "6771228d",
   "metadata": {},
   "outputs": [],
   "source": [
    "class Animal:\n",
    "    def __init__(self,name,sound):\n",
    "        self.name = name\n",
    "        self.sound = sound\n",
    "\n",
    "\n",
    "    def AnimalDetails(self):\n",
    "        return f\"Name :{self.name},Sound:{ self.sound}\"\n",
    "\n",
    "class Dog(Animal):\n",
    "    def __init__(self, name, sound,family):\n",
    "        self.family = family\n",
    "        super().__init__(name, sound)\n",
    "    \n",
    "    def AnimalDetails(self):\n",
    "        return f\"{super().AnimalDetails()} ,Family: {self.family}\"\n",
    "    \n",
    "\n",
    "class Sheep(Animal):\n",
    "    def __init__(self, name, sound,colour):\n",
    "        self.colour = colour\n",
    "        super().__init__(name, sound)\n",
    "\n",
    "    def AnimalDetails(self):\n",
    "        return super().AnimalDetails() + self.colour   \n",
    "    \n",
    "\n"
   ]
  },
  {
   "cell_type": "code",
   "execution_count": null,
   "id": "f6182fa5",
   "metadata": {},
   "outputs": [
    {
     "data": {
      "text/plain": [
       "'Name :Pongo,Sound:Woof Woof ,Family: Husky'"
      ]
     },
     "execution_count": 297,
     "metadata": {},
     "output_type": "execute_result"
    }
   ],
   "source": [
    "d = Dog(\"Pongo\", \"Woof Woof\", \"Husky\")\n",
    "d.AnimalDetails()\n",
    "# print(\" \")\n",
    "# s = Sheep(\"Billy\", \"Baaa Baaa\", \"White\")\n",
    "# s.Animal_details()"
   ]
  },
  {
   "cell_type": "code",
   "execution_count": null,
   "id": "0f26b2bb",
   "metadata": {},
   "outputs": [
    {
     "name": "stdout",
     "output_type": "stream",
     "text": [
      "Person Name: Joe\n",
      "Country Name: Wales\n",
      "Country Population 1500\n",
      "\n",
      "Country Name: Wales\n",
      "Country Population 1500\n"
     ]
    }
   ],
   "source": [
    "class Country:\n",
    "    def __init__(self, name=None, population=0):\n",
    "        self.name = name\n",
    "        self.population = population\n",
    "\n",
    "    def printDetails(self):\n",
    "        print(\"Country Name:\", self.name)\n",
    "        print(\"Country Population\", self.population)\n",
    "\n",
    "class Person:\n",
    "    def __init__(self, name, country):\n",
    "        self.name = name\n",
    "        self.country = country\n",
    "\n",
    "    def printDetails(self):\n",
    "        print(\"Person Name:\", self.name)\n",
    "        self.country.printDetails()\n",
    "\n",
    "c = Country(\"Wales\", 1500)\n",
    "\n",
    "p = Person(\"Joe\", c)\n",
    "p.printDetails()\n",
    "\n",
    "# deletes the object p\n",
    "del p\n",
    "print(\"\")\n",
    "c.printDetails()"
   ]
  },
  {
   "cell_type": "code",
   "execution_count": null,
   "id": "c6030864",
   "metadata": {},
   "outputs": [],
   "source": [
    "class Car:\n",
    "    def __init__(self,colour,model):\n",
    "        self.colour = colour\n",
    "        self.model = model\n",
    "\n",
    "    def PrintDetails(self):\n",
    "        print(f\" model:{self.model}\"\n",
    "             f\" colour: {self.colour}\")\n",
    "        \n",
    "\n",
    "class SedanEngine(Car):\n",
    "    def __init__(self, colour, model):\n",
    "        super().__init__(colour, model)\n",
    "\n",
    "    def start():\n",
    "        print(\"The car has started\")\n",
    "\n",
    "    def stop():   \n",
    "        print(\"The car has stopped\")\n",
    "\n",
    "\n",
    "class Sedan(Car):\n",
    "    def __init__(self,colour,model):\n",
    "        super().__init__(colour,model)\n",
    "\n",
    "    def setStart(self):\n",
    "        return SedanEngine.start()\n",
    "    \n",
    "    def setStop(self):\n",
    "        return SedanEngine.stop()\n",
    "    \n",
    "    def PrintDetails(self):\n",
    "        return super().PrintDetails()"
   ]
  },
  {
   "cell_type": "code",
   "execution_count": null,
   "id": "d7dca393",
   "metadata": {},
   "outputs": [
    {
     "name": "stdout",
     "output_type": "stream",
     "text": [
      "The car has started\n",
      " model:Grey colour: Toyota\n",
      "The car has stopped\n"
     ]
    }
   ],
   "source": [
    "car1 = Sedan(\"Toyota\",\"Grey\")\n",
    "car1.setStart()\n",
    "car1.PrintDetails()\n",
    "car1.setStop()"
   ]
  },
  {
   "cell_type": "code",
   "execution_count": null,
   "id": "450b3581",
   "metadata": {},
   "outputs": [],
   "source": [
    "class Player:\n",
    "    def __init__(self,ID,name,teamname):\n",
    "        self.ID = ID\n",
    "        self.name = name\n",
    "        self.teamname = teamname\n",
    "\n",
    "\n",
    "\n",
    "class Team:\n",
    "    def __init__(self,name,players = []):\n",
    "        self.name = name\n",
    "        self.players = players\n",
    "\n",
    "\n",
    "\n",
    "    def addplayer(self,player):\n",
    "        return self.players.append(player)\n",
    "    \n",
    "\n",
    "    def getNumberOfPlayers(self):\n",
    "        return len(self.players)\n",
    "    \n",
    "\n",
    "class School():\n",
    "    def __init__(self,name,teams = []):\n",
    "        self.name = name\n",
    "        self.teams = []\n",
    "\n",
    "    def addteams(self,team):\n",
    "        return self.teams.append(team)\n",
    "\n",
    "\n",
    "    def getTotalPlayersInSchool(self):\n",
    "        length = 0\n",
    "        for n in self.teams:\n",
    "            length += n.getNumberOfPlayers()\n",
    "        return length \n",
    "    \n",
    "    def printTeamNames(self):\n",
    "        print(f\"Teams in {self.name}:\")\n",
    "        for team in self.teams:\n",
    "            print(f\"- {team.name}\")\n",
    "    \n",
    "    "
   ]
  },
  {
   "cell_type": "code",
   "execution_count": null,
   "id": "01e50e23",
   "metadata": {},
   "outputs": [],
   "source": [
    "player1 = Player(1, \"Harris\", \"Red\")\n",
    "player2 = Player(2, \"Leo\", \"Red\")\n",
    "player3 = Player(3, \"Sam\", \"Blue\")\n",
    "player4 = Player(4, \"Ben\", \"Blue\")"
   ]
  },
  {
   "cell_type": "code",
   "execution_count": null,
   "id": "0bf461cb",
   "metadata": {},
   "outputs": [],
   "source": [
    "red_team = Team(\"Red Team\")"
   ]
  },
  {
   "cell_type": "code",
   "execution_count": null,
   "id": "fdfff944",
   "metadata": {},
   "outputs": [],
   "source": [
    "red_team.addplayer(player1)\n",
    "red_team.addplayer(player2)"
   ]
  },
  {
   "cell_type": "code",
   "execution_count": null,
   "id": "908eed58",
   "metadata": {},
   "outputs": [],
   "source": [
    "blue_team = Team(\"Blue Team\")\n",
    "\n",
    "# Line 45 – 46: Added two Player objects in the blue_team's players list\n",
    "blue_team.addplayer(player3)\n",
    "blue_team.addplayer(player4)\n"
   ]
  },
  {
   "cell_type": "code",
   "execution_count": null,
   "id": "130f9bc5",
   "metadata": {},
   "outputs": [],
   "source": [
    "mySchool = School(\"Greenwood High\")\n",
    "\n",
    "# Line 49 – 50: Added two Team objects in the mySchool's teams list\n",
    "mySchool.addteams(red_team)\n",
    "mySchool.addteams(blue_team)"
   ]
  },
  {
   "cell_type": "code",
   "execution_count": null,
   "id": "3073c31f",
   "metadata": {},
   "outputs": [
    {
     "name": "stdout",
     "output_type": "stream",
     "text": [
      "School Name: Greenwood High\n",
      "Total players in the school: 8\n"
     ]
    }
   ],
   "source": [
    "print(f\"School Name: {mySchool.name}\")\n",
    "print(f\"Total players in the school: {mySchool.getTotalPlayersInSchool()}\")"
   ]
  },
  {
   "cell_type": "code",
   "execution_count": null,
   "id": "71528934",
   "metadata": {},
   "outputs": [
    {
     "name": "stdout",
     "output_type": "stream",
     "text": [
      "Teams in Greenwood High:\n",
      "- Red Team\n",
      "- Blue Team\n"
     ]
    }
   ],
   "source": [
    "mySchool.printTeamNames()"
   ]
  },
  {
   "cell_type": "code",
   "execution_count": null,
   "id": "a269c7d7",
   "metadata": {},
   "outputs": [],
   "source": [
    "class repeat:\n",
    "    def __init__(self,prob : list):\n",
    "        self.prob = prob\n",
    "\n",
    "\n",
    "    def count(self):\n",
    "        num = 0\n",
    "        for i in range(len(self.prob)):\n",
    "            for j in range(i+1, len(self.prob)):\n",
    "                if self.prob[i] == self.prob[j]:\n",
    "                    num += 1\n",
    "\n",
    "        return num        \n",
    "\n"
   ]
  },
  {
   "cell_type": "code",
   "execution_count": null,
   "id": "0f10ff58",
   "metadata": {},
   "outputs": [],
   "source": [
    "o = repeat([2,2,3,4,5,2,2])"
   ]
  },
  {
   "cell_type": "code",
   "execution_count": null,
   "id": "670754f3",
   "metadata": {},
   "outputs": [
    {
     "data": {
      "text/plain": [
       "6"
      ]
     },
     "execution_count": 427,
     "metadata": {},
     "output_type": "execute_result"
    }
   ],
   "source": [
    "o.count()"
   ]
  },
  {
   "cell_type": "code",
   "execution_count": null,
   "id": "de3137cd",
   "metadata": {},
   "outputs": [],
   "source": [
    "s = [1,2,3,4,5,9,5,2,3]"
   ]
  },
  {
   "cell_type": "code",
   "execution_count": null,
   "id": "755d6584",
   "metadata": {},
   "outputs": [],
   "source": [
    "def repeat(lo):\n",
    "    count = {}\n",
    "    num = 1\n",
    "    ll = set(lo)\n",
    "    \n",
    "    for i in ll :\n",
    "        for j in range(len(lo)):\n",
    "            if ll[i] == lo[j]:\n",
    "                num += 1\n",
    "                count[lo[i]] = num\n",
    "            else:\n",
    "                count[lo[i]] = num\n",
    "\n",
    "    return count             "
   ]
  },
  {
   "cell_type": "code",
   "execution_count": null,
   "id": "83b30a28",
   "metadata": {},
   "outputs": [
    {
     "data": {
      "text/plain": [
       "{1: 1, 2: 2, 3: 3}"
      ]
     },
     "execution_count": 455,
     "metadata": {},
     "output_type": "execute_result"
    }
   ],
   "source": [
    "repeat(s)"
   ]
  },
  {
   "cell_type": "code",
   "execution_count": null,
   "id": "f7d53288",
   "metadata": {},
   "outputs": [],
   "source": [
    "sett = set(s)"
   ]
  },
  {
   "cell_type": "code",
   "execution_count": null,
   "id": "82af00cf",
   "metadata": {},
   "outputs": [
    {
     "data": {
      "text/plain": [
       "{1, 2, 3, 4, 5, 9}"
      ]
     },
     "execution_count": 457,
     "metadata": {},
     "output_type": "execute_result"
    }
   ],
   "source": [
    "sett"
   ]
  },
  {
   "cell_type": "code",
   "execution_count": null,
   "id": "c9159892",
   "metadata": {},
   "outputs": [],
   "source": [
    "S=[1,2,4,2,1,6]\n"
   ]
  },
  {
   "cell_type": "code",
   "execution_count": null,
   "id": "386a390a",
   "metadata": {},
   "outputs": [],
   "source": [
    "def counter(lega):\n",
    "    sett=list(set(lega))\n",
    "    dict_1={}\n",
    "    for i in sett:\n",
    "        numb=0\n",
    "        for j in lega:\n",
    "            if i==j:\n",
    "                numb+=1\n",
    "            else:\n",
    "                continue\n",
    "        dict_1[i]=numb\n",
    "\n",
    "    return dict_1\n",
    "\n",
    "\n",
    "\n",
    "\n",
    "\n",
    "\n"
   ]
  },
  {
   "cell_type": "code",
   "execution_count": null,
   "id": "f2d23145",
   "metadata": {},
   "outputs": [
    {
     "data": {
      "text/plain": [
       "{1: 1, 2: 3, 3: 1, 4: 2, 5: 1}"
      ]
     },
     "execution_count": 461,
     "metadata": {},
     "output_type": "execute_result"
    }
   ],
   "source": [
    "listt=[1,2,3,4,4,5,2,2]\n",
    "counter(listt)"
   ]
  },
  {
   "cell_type": "code",
   "execution_count": null,
   "id": "7a18b930",
   "metadata": {},
   "outputs": [],
   "source": [
    "from typing import List"
   ]
  },
  {
   "cell_type": "code",
   "execution_count": null,
   "id": "5dacb9c5",
   "metadata": {},
   "outputs": [],
   "source": [
    "class Solution:\n",
    "\n",
    "    def removeDuplicates(self, nums: List[int]) -> int:\n",
    "\n",
    "        \n",
    "        \n",
    "        return nums"
   ]
  },
  {
   "cell_type": "code",
   "execution_count": null,
   "id": "9c09c5fb",
   "metadata": {},
   "outputs": [],
   "source": [
    "ol = Solution()"
   ]
  },
  {
   "cell_type": "code",
   "execution_count": null,
   "id": "9ece495b",
   "metadata": {},
   "outputs": [
    {
     "data": {
      "text/plain": [
       "[1, 2, 3]"
      ]
     },
     "execution_count": 27,
     "metadata": {},
     "output_type": "execute_result"
    }
   ],
   "source": [
    "ol.removeDuplicates([1,2,3])"
   ]
  },
  {
   "cell_type": "code",
   "execution_count": null,
   "id": "3d80f43c",
   "metadata": {},
   "outputs": [],
   "source": [
    "jk = [1,2]"
   ]
  },
  {
   "cell_type": "code",
   "execution_count": null,
   "id": "f6d4d46a",
   "metadata": {},
   "outputs": [],
   "source": [
    "jk[0] = 2"
   ]
  },
  {
   "cell_type": "code",
   "execution_count": null,
   "id": "8f26cd68",
   "metadata": {},
   "outputs": [
    {
     "data": {
      "text/plain": [
       "[2, 2]"
      ]
     },
     "execution_count": 34,
     "metadata": {},
     "output_type": "execute_result"
    }
   ],
   "source": [
    "jk[:]"
   ]
  },
  {
   "cell_type": "code",
   "execution_count": null,
   "id": "1386fa4a",
   "metadata": {},
   "outputs": [
    {
     "name": "stdout",
     "output_type": "stream",
     "text": [
      "0\n",
      "1\n"
     ]
    }
   ],
   "source": [
    "for i in range(len(jk)):\n",
    "    print(i)"
   ]
  },
  {
   "cell_type": "code",
   "execution_count": null,
   "id": "e1f00027",
   "metadata": {},
   "outputs": [],
   "source": [
    "m = [1,2]\n",
    "n = [3,4]"
   ]
  },
  {
   "cell_type": "code",
   "execution_count": null,
   "id": "b3586708",
   "metadata": {},
   "outputs": [
    {
     "name": "stdout",
     "output_type": "stream",
     "text": [
      "[1, 2, 3, 4]\n"
     ]
    }
   ],
   "source": [
    "print(m+n)"
   ]
  },
  {
   "cell_type": "code",
   "execution_count": null,
   "id": "3ed0d630",
   "metadata": {},
   "outputs": [],
   "source": [
    "j = m+n"
   ]
  },
  {
   "cell_type": "code",
   "execution_count": null,
   "id": "86b5fe87",
   "metadata": {},
   "outputs": [
    {
     "data": {
      "text/plain": [
       "[1, 3]"
      ]
     },
     "execution_count": 44,
     "metadata": {},
     "output_type": "execute_result"
    }
   ],
   "source": [
    "j[:3:2]"
   ]
  },
  {
   "cell_type": "code",
   "execution_count": null,
   "id": "dfb6b19e",
   "metadata": {},
   "outputs": [
    {
     "name": "stdout",
     "output_type": "stream",
     "text": [
      "True\n"
     ]
    }
   ],
   "source": [
    "print(5 not in j)"
   ]
  },
  {
   "cell_type": "code",
   "execution_count": 48,
   "id": "3d012ea1",
   "metadata": {},
   "outputs": [],
   "source": [
    "n1 = [1,2,3]\n",
    "n2 = [4,5,6]"
   ]
  },
  {
   "cell_type": "code",
   "execution_count": 50,
   "id": "a6e393cc",
   "metadata": {},
   "outputs": [],
   "source": [
    "new_n = [(j1,j2) for j1 in n1 for j2 in n2 if j1+j2 > 2 ]"
   ]
  },
  {
   "cell_type": "code",
   "execution_count": 51,
   "id": "7615471a",
   "metadata": {},
   "outputs": [
    {
     "data": {
      "text/plain": [
       "[(1, 4), (1, 5), (1, 6), (2, 4), (2, 5), (2, 6), (3, 4), (3, 5), (3, 6)]"
      ]
     },
     "execution_count": 51,
     "metadata": {},
     "output_type": "execute_result"
    }
   ],
   "source": [
    "new_n"
   ]
  },
  {
   "cell_type": "code",
   "execution_count": 52,
   "id": "ff0d58bc",
   "metadata": {},
   "outputs": [
    {
     "name": "stdout",
     "output_type": "stream",
     "text": [
      "('Ford', 'Raptor', 2019, 'Red')\n",
      "4\n",
      "Raptor\n",
      "(2019, 'Red')\n"
     ]
    }
   ],
   "source": [
    "car = ('Ford', 'Raptor', 2019, 'Red')\n",
    "print(car)\n",
    "\n",
    "# Length\n",
    "print(len(car))\n",
    "\n",
    "# Indexing\n",
    "print(car[1])\n",
    "\n",
    "# Slicing\n",
    "print(car[2:])"
   ]
  },
  {
   "cell_type": "code",
   "execution_count": 53,
   "id": "939f3a18",
   "metadata": {},
   "outputs": [],
   "source": [
    "bus = (1,2,3)\n",
    "tup = bus + car"
   ]
  },
  {
   "cell_type": "code",
   "execution_count": 54,
   "id": "38bed6db",
   "metadata": {},
   "outputs": [
    {
     "data": {
      "text/plain": [
       "(1, 2, 3, 'Ford', 'Raptor', 2019, 'Red')"
      ]
     },
     "execution_count": 54,
     "metadata": {},
     "output_type": "execute_result"
    }
   ],
   "source": [
    "tup"
   ]
  },
  {
   "cell_type": "code",
   "execution_count": 55,
   "id": "7cd42c37",
   "metadata": {},
   "outputs": [
    {
     "name": "stdout",
     "output_type": "stream",
     "text": [
      "(1, 2, 3) ('Ford', 'Raptor', 2019, 'Red')\n"
     ]
    }
   ],
   "source": [
    "print(bus,car)"
   ]
  },
  {
   "cell_type": "code",
   "execution_count": 67,
   "id": "84b836b2",
   "metadata": {},
   "outputs": [
    {
     "name": "stdout",
     "output_type": "stream",
     "text": [
      "{'Batman': 468426, 'Cersei': 237734, 'Ghostbusters': 44678}\n",
      "{'Cersei': 237734, 'Ghostbusters': 44678}\n",
      "468426\n",
      "('Ghostbusters', 44678)\n"
     ]
    }
   ],
   "source": [
    "phone_book = {\"Batman\": 468426,\n",
    "              \"Cersei\": 237734,\n",
    "              \"Ghostbusters\": 44678}\n",
    "\n",
    "print(phone_book)\n",
    "\n",
    "cersei = phone_book.pop(\"Batman\")\n",
    "print(phone_book)\n",
    "print(cersei)\n",
    "\n",
    "# Removes and returns the last inserted pair, as a tuple\n",
    "# In Python versions before 3.7, popitem() removes and returns the random item\n",
    "lastAdded = phone_book.popitem()\n",
    "print(lastAdded)"
   ]
  },
  {
   "cell_type": "code",
   "execution_count": 64,
   "id": "17c3df61",
   "metadata": {},
   "outputs": [
    {
     "data": {
      "text/plain": [
       "dict"
      ]
     },
     "execution_count": 64,
     "metadata": {},
     "output_type": "execute_result"
    }
   ],
   "source": [
    "type(phone_book)"
   ]
  },
  {
   "cell_type": "code",
   "execution_count": 68,
   "id": "3b381141",
   "metadata": {},
   "outputs": [
    {
     "name": "stdout",
     "output_type": "stream",
     "text": [
      "{1408, (True, False), 3.142, 'Educative'}\n",
      "4\n"
     ]
    }
   ],
   "source": [
    "random_set = {\"Educative\", 1408, 3.142,\n",
    "              (True, False)}\n",
    "print(random_set)\n",
    "print(len(random_set)) # Length of the set"
   ]
  },
  {
   "cell_type": "code",
   "execution_count": 69,
   "id": "f13e282c",
   "metadata": {},
   "outputs": [],
   "source": [
    "my_list = [34, 82.6, \"Darth Vader\", 17, \"Hannibal\"]"
   ]
  },
  {
   "cell_type": "code",
   "execution_count": 76,
   "id": "79ed5ba4",
   "metadata": {},
   "outputs": [],
   "source": [
    "my_tup = tuple((my_list[0],my_list[-1], len(my_list)))"
   ]
  },
  {
   "cell_type": "code",
   "execution_count": 77,
   "id": "0413cb4f",
   "metadata": {},
   "outputs": [
    {
     "data": {
      "text/plain": [
       "(34, 'Hannibal', 5)"
      ]
     },
     "execution_count": 77,
     "metadata": {},
     "output_type": "execute_result"
    }
   ],
   "source": [
    "my_tup"
   ]
  },
  {
   "cell_type": "code",
   "execution_count": 1,
   "id": "c1b35950",
   "metadata": {},
   "outputs": [],
   "source": [
    "test_list = [33,44,55,66,1]"
   ]
  },
  {
   "cell_type": "code",
   "execution_count": 2,
   "id": "db9cd1bb",
   "metadata": {},
   "outputs": [],
   "source": [
    "def K_largest(listt):\n",
    "\n",
    "    largest = listt[0]\n",
    "    for j in range(1,len(listt)):\n",
    "        if listt[j] > largest:\n",
    "            largest = listt[j]\n",
    "\n",
    "\n",
    "        else:\n",
    "             continue\n",
    "\n",
    "        \n",
    "    \n",
    "    return largest\n",
    "\n",
    "\n",
    "    \n",
    "\n"
   ]
  },
  {
   "cell_type": "code",
   "execution_count": 3,
   "id": "8b1879de",
   "metadata": {},
   "outputs": [
    {
     "data": {
      "text/plain": [
       "66"
      ]
     },
     "execution_count": 3,
     "metadata": {},
     "output_type": "execute_result"
    }
   ],
   "source": [
    "K_largest(test_list)"
   ]
  },
  {
   "cell_type": "code",
   "execution_count": 11,
   "id": "22cf184b",
   "metadata": {},
   "outputs": [],
   "source": [
    "def largest(listt,k):\n",
    "    for i in range(k-1):\n",
    "        k_largest = K_largest(listt)\n",
    "        listt.remove(k_largest)\n",
    "\n",
    "    value = K_largest(listt)\n",
    "\n",
    "    return value"
   ]
  },
  {
   "cell_type": "code",
   "execution_count": 12,
   "id": "f9076606",
   "metadata": {},
   "outputs": [
    {
     "data": {
      "text/plain": [
       "55"
      ]
     },
     "execution_count": 12,
     "metadata": {},
     "output_type": "execute_result"
    }
   ],
   "source": [
    "largest(test_list,2)"
   ]
  },
  {
   "cell_type": "code",
   "execution_count": 30,
   "id": "4c2f838f",
   "metadata": {},
   "outputs": [],
   "source": [
    "def  count_low_high(num_list):\n",
    "    \n",
    "    tt = len([n for n in num_list if n > 50 or n% 3 == 0])\n",
    "\n",
    "    kk = len([n for n in num_list if n <= 50 and not n% 3 == 0])\n",
    "   \n",
    "\n",
    "    return [tt,kk]"
   ]
  },
  {
   "cell_type": "code",
   "execution_count": 31,
   "id": "eae2bddf",
   "metadata": {},
   "outputs": [],
   "source": [
    "num_list = [20, 9, 51, 81, 50, 42, 77]\n"
   ]
  },
  {
   "cell_type": "code",
   "execution_count": 32,
   "id": "c437c3e2",
   "metadata": {},
   "outputs": [
    {
     "data": {
      "text/plain": [
       "[5, 2]"
      ]
     },
     "execution_count": 32,
     "metadata": {},
     "output_type": "execute_result"
    }
   ],
   "source": [
    "count_low_high(num_list)"
   ]
  },
  {
   "cell_type": "code",
   "execution_count": 9,
   "id": "23034075",
   "metadata": {},
   "outputs": [],
   "source": [
    "def count(num):\n",
    "    a = 0\n",
    "    b= 0\n",
    "    for i in num:\n",
    "        if i > 50 and i%3 == 0:\n",
    "            a += 1\n",
    "        \n",
    "        else:\n",
    "            b += 1\n",
    "\n",
    "    return [a,b]"
   ]
  },
  {
   "cell_type": "code",
   "execution_count": 10,
   "id": "aa09cc33",
   "metadata": {},
   "outputs": [
    {
     "data": {
      "text/plain": [
       "[2, 5]"
      ]
     },
     "execution_count": 10,
     "metadata": {},
     "output_type": "execute_result"
    }
   ],
   "source": [
    "count(num_list)"
   ]
  },
  {
   "cell_type": "code",
   "execution_count": 62,
   "id": "3a0c1482",
   "metadata": {},
   "outputs": [],
   "source": [
    "class tack():\n",
    "    def __init__(self):\n",
    "        self.items = []\n",
    "\n",
    "    def push(self, item):\n",
    "        self.items.append(item)\n",
    "\n",
    "    def pop(self):\n",
    "        return self.items.pop()\n",
    "\n",
    "    def get_stack(self):\n",
    "        return self.items\n",
    "    \n",
    "    def is_empty(self):\n",
    "        return self.items == []\n",
    "    \n",
    "    def peek(self):\n",
    "        if not self.is_empty:\n",
    "            return self.items[-1]\n",
    "\n"
   ]
  },
  {
   "cell_type": "code",
   "execution_count": 63,
   "id": "2e9325e2",
   "metadata": {},
   "outputs": [
    {
     "name": "stdout",
     "output_type": "stream",
     "text": [
      "['A', 'B']\n",
      "['A', 'B', 'C']\n",
      "['A', 'B']\n"
     ]
    }
   ],
   "source": [
    "myStack = tack()\n",
    "myStack.push(\"A\")\n",
    "myStack.push(\"B\")\n",
    "print(myStack.get_stack())\n",
    "myStack.push(\"C\")\n",
    "print(myStack.get_stack())\n",
    "myStack.pop()\n",
    "print(myStack.get_stack())"
   ]
  },
  {
   "cell_type": "code",
   "execution_count": 64,
   "id": "5059808f",
   "metadata": {},
   "outputs": [
    {
     "data": {
      "text/plain": [
       "False"
      ]
     },
     "execution_count": 64,
     "metadata": {},
     "output_type": "execute_result"
    }
   ],
   "source": [
    "myStack.is_empty()"
   ]
  },
  {
   "cell_type": "code",
   "execution_count": 77,
   "id": "4eb96164",
   "metadata": {},
   "outputs": [],
   "source": [
    "def convert_int_to_bin(dec_num):\n",
    "  stack = tack()\n",
    "  while dec_num > 0:\n",
    "        remainder = dec_num % 2\n",
    "        stack.push(remainder)\n",
    "        dec_num = dec_num // 2\n",
    "\n",
    "  bin_num = \"\"\n",
    "  \n",
    "  while not stack.is_empty():\n",
    "        bin_num += str(stack.pop())\n",
    "\n",
    "\n",
    "  return bin_num\n",
    "\n",
    "\n"
   ]
  },
  {
   "cell_type": "code",
   "execution_count": 78,
   "id": "10b22b18",
   "metadata": {},
   "outputs": [
    {
     "data": {
      "text/plain": [
       "'1100100'"
      ]
     },
     "execution_count": 78,
     "metadata": {},
     "output_type": "execute_result"
    }
   ],
   "source": [
    "convert_int_to_bin(100)"
   ]
  },
  {
   "cell_type": "code",
   "execution_count": 88,
   "id": "190cf7ac",
   "metadata": {},
   "outputs": [],
   "source": [
    "def romanToInt(s: str) -> int:\n",
    "\n",
    "        ll = [n for n in s if n == 'IV']\n",
    "          \n",
    "            \n",
    "        return ll         "
   ]
  },
  {
   "cell_type": "code",
   "execution_count": 92,
   "id": "305d5ce3",
   "metadata": {},
   "outputs": [
    {
     "data": {
      "text/plain": [
       "[]"
      ]
     },
     "execution_count": 92,
     "metadata": {},
     "output_type": "execute_result"
    }
   ],
   "source": [
    "romanToInt(s =['iIV'])"
   ]
  },
  {
   "cell_type": "code",
   "execution_count": 3,
   "id": "92f29942",
   "metadata": {},
   "outputs": [],
   "source": [
    "class Node:\n",
    "    def __init__(self,data):\n",
    "        self.data = data\n",
    "        self.next = None"
   ]
  },
  {
   "cell_type": "code",
   "execution_count": 21,
   "id": "29306d80",
   "metadata": {},
   "outputs": [],
   "source": [
    "class linkedList:\n",
    "    def __init__(self):\n",
    "        self.head = None\n",
    "\n",
    "\n",
    "    def print_list(self):\n",
    "        curr_node = self.head\n",
    "        while curr_node:\n",
    "            print(curr_node.data)\n",
    "            curr_node = curr_node.next\n",
    "    \n",
    "\n",
    "    def append(self,data):\n",
    "        new_node = Node(data)\n",
    "\n",
    "        if self.head is None:\n",
    "            self.head = new_node\n",
    "\n",
    "            return\n",
    "        \n",
    "        last_node = self.head\n",
    "        while last_node.next :\n",
    "            last_node = last_node.next\n",
    "\n",
    "        last_node.next = new_node\n",
    "\n",
    "    def prepend(self,data):\n",
    "        new_node = Node(data)\n",
    "\n",
    "        new_node.next = self.head\n",
    "        self.head = new_node\n",
    "\n",
    "\n",
    "    def insert_after_node(self,prev_node, data):\n",
    "        new_node = Node(data)\n",
    "\n",
    "        if not prev_node:\n",
    "            print(\"Previous node does not exist.\")\n",
    "            return \n",
    "        \n",
    "        new_node.next = prev_node.next\n",
    "        prev_node.next =  new_node\n",
    "\n",
    "    \n",
    "    def delete_node(self,key):\n",
    "        cur_node = self.head\n",
    "\n",
    "        if cur_node and cur_node.data == key:\n",
    "            self.head = cur_node.next\n",
    "            cur_node = None\n",
    "            return\n",
    "\n",
    "        prev = None \n",
    "        while cur_node and cur_node.data != key:\n",
    "            prev = cur_node\n",
    "            cur_node = cur_node.next\n",
    "\n",
    "        if cur_node is None:\n",
    "            return \n",
    "\n",
    "        prev.next = cur_node.next\n",
    "        cur_node = None\n",
    "    \n",
    "    def swap_nodes(self, key_1, key_2):\n",
    "        if key_1 == key_2:\n",
    "            return\n",
    "\n",
    "        prev_1 = None\n",
    "        curr_1 = self.head\n",
    "        while curr_1 and curr_1.data != key_1:\n",
    "            prev_1 = curr_1\n",
    "            curr_1 = curr_1.next\n",
    "\n",
    "        prev_2 = None\n",
    "        curr_2 = self.head\n",
    "        while curr_2 and curr_2.data != key_2:\n",
    "            prev_2 = curr_2\n",
    "            curr_2 = curr_2.next\n",
    "\n",
    "        if not curr_1 or not curr_2:\n",
    "            return\n",
    "\n",
    "        if prev_1:\n",
    "            prev_1.next = curr_2\n",
    "        else:\n",
    "            self.head = curr_2\n",
    "\n",
    "        if prev_2:\n",
    "            prev_2.next = curr_1\n",
    "        else:\n",
    "            self.head = curr_1\n",
    "\n",
    "        # Complete the code here\n",
    "        curr_1.next, curr_2.next = curr_2.next, curr_1.next\n",
    "\n",
    "\n",
    "    def reverse_iterative(self):\n",
    "        prev = None\n",
    "        cur = self.head\n",
    "        while cur:\n",
    "            nxt = cur.next\n",
    "            cur.next = prev\n",
    "            prev = cur\n",
    "            cur = nxt\n",
    "            # print(f\"Reversing: {cur.data}\")\n",
    "\n",
    "        self.head = prev\n",
    "        return \n",
    "    \n",
    "    def merge_sorted(self, llist):\n",
    "        p = self.head\n",
    "        q = llist.head\n",
    "        s = None\n",
    "        new_head = None # Initialize new_head\n",
    "\n",
    "        if not p:\n",
    "            return q\n",
    "        if not q:\n",
    "            return p\n",
    "\n",
    "        if p and q:\n",
    "            if p.data <= q.data:\n",
    "                s = p\n",
    "                p = s.next\n",
    "            else:\n",
    "                s = q\n",
    "                q = s.next\n",
    "            new_head = s # Set new_head after the first element is determined\n",
    "\n",
    "        while p and q:\n",
    "            if p.data <= q.data:\n",
    "                s.next = p\n",
    "                s = p\n",
    "                p = s.next\n",
    "            else:\n",
    "                s.next = q\n",
    "                s = q\n",
    "                q = s.next\n",
    "\n",
    "        if not p:\n",
    "            s.next = q # Append the remaining elements of q if p is exhausted\n",
    "        if not q:\n",
    "            s.next = p # Append the remaining elements of p if q is exhausted\n",
    "\n",
    "            self.head = new_head\n",
    "\n",
    "        return new_head # Return the head of the merged sorted list\n",
    "    \n",
    "    \n",
    "    def tail_to_head(self):\n",
    "\n",
    "        p = self.head #last\n",
    "        q = None #Second last\n",
    "\n",
    "        while p.next:\n",
    "            q = p\n",
    "            p = p.next\n",
    "        # return prev\n",
    "\n",
    "        p.next = self.head\n",
    "        self.head = p\n",
    "        q.next = None\n",
    "\n",
    "\n",
    "\n",
    "    def sum_two_list(self,llist):\n",
    "\n",
    "        p = self.head\n",
    "        q = llist.head\n",
    "        list3 = linkedList()\n",
    "\n",
    "        carry = 0\n",
    "        while p or q:\n",
    "\n",
    "            if not p:\n",
    "                i = 0\n",
    "            else:\n",
    "                i = p.data\n",
    "\n",
    "            if not q:\n",
    "                j = 0\n",
    "            else:\n",
    "                j = q.data\n",
    "\n",
    "            \n",
    "            remainder = 0\n",
    "\n",
    "            s = i + j + carry\n",
    "\n",
    "            if s>= 10:\n",
    "                remainder = s%10\n",
    "                list3.append(remainder)\n",
    "                carry += 1\n",
    "            \n",
    "            else:\n",
    "                list3.append(s)\n",
    "\n",
    "            \n",
    "            if q:\n",
    "                q = q.next\n",
    "            \n",
    "            if p :\n",
    "                p = p.next\n",
    "\n",
    "        return list3\n",
    "\n",
    "            \n",
    "\n",
    "               \n",
    "    \n",
    "        \n",
    "\n"
   ]
  },
  {
   "cell_type": "code",
   "execution_count": 5,
   "id": "6d3b1ddd",
   "metadata": {},
   "outputs": [
    {
     "name": "stdout",
     "output_type": "stream",
     "text": [
      "A\n",
      "C\n",
      "D\n"
     ]
    }
   ],
   "source": [
    "llist = linkedList()\n",
    "\n",
    "llist.append(\"A\")\n",
    "llist.append(\"B\")\n",
    "llist.append(\"C\")\n",
    "llist.append(\"D\")\n",
    "\n",
    "llist.delete_node(\"B\")\n",
    "llist.delete_node(\"E\")\n",
    "\n",
    "llist.print_list()"
   ]
  },
  {
   "cell_type": "code",
   "execution_count": 22,
   "id": "dc18678d",
   "metadata": {},
   "outputs": [],
   "source": [
    "kin = linkedList()\n",
    "kin.append(1)\n",
    "kin.append(2)\n",
    "kin.append(3)"
   ]
  },
  {
   "cell_type": "code",
   "execution_count": 23,
   "id": "543de75d",
   "metadata": {},
   "outputs": [
    {
     "name": "stdout",
     "output_type": "stream",
     "text": [
      "1\n",
      "2\n",
      "3\n"
     ]
    }
   ],
   "source": [
    "kin.print_list()"
   ]
  },
  {
   "cell_type": "code",
   "execution_count": 24,
   "id": "4f2e9c6f",
   "metadata": {},
   "outputs": [
    {
     "name": "stdout",
     "output_type": "stream",
     "text": [
      "1\n",
      "2\n",
      "3\n"
     ]
    }
   ],
   "source": [
    "kin.print_list()"
   ]
  },
  {
   "cell_type": "code",
   "execution_count": 25,
   "id": "f4890bf2",
   "metadata": {},
   "outputs": [],
   "source": [
    "knn = linkedList()\n",
    "knn.append(4)\n",
    "knn.append(5)\n",
    "knn.append(6)"
   ]
  },
  {
   "cell_type": "code",
   "execution_count": 26,
   "id": "bf064fd8",
   "metadata": {},
   "outputs": [
    {
     "name": "stdout",
     "output_type": "stream",
     "text": [
      "4\n",
      "5\n",
      "6\n"
     ]
    }
   ],
   "source": [
    "knn.print_list()"
   ]
  },
  {
   "cell_type": "code",
   "execution_count": 27,
   "id": "4215d2cd",
   "metadata": {},
   "outputs": [],
   "source": [
    "list1 = linkedList()\n",
    "list2 = linkedList()"
   ]
  },
  {
   "cell_type": "code",
   "execution_count": 28,
   "id": "894c4e63",
   "metadata": {},
   "outputs": [],
   "source": [
    "list1.append(1)\n",
    "list1.append(3)\n",
    "list1.append(5)\n",
    "\n",
    "list2.append(2)\n",
    "list2.append(4)\n",
    "list2.append(6)"
   ]
  },
  {
   "cell_type": "code",
   "execution_count": 29,
   "id": "3a6af705",
   "metadata": {},
   "outputs": [],
   "source": [
    "merged_head = list1.merge_sorted(list2)"
   ]
  },
  {
   "cell_type": "code",
   "execution_count": 30,
   "id": "72f402bc",
   "metadata": {},
   "outputs": [
    {
     "data": {
      "text/plain": [
       "__main__.Node"
      ]
     },
     "execution_count": 30,
     "metadata": {},
     "output_type": "execute_result"
    }
   ],
   "source": [
    "type(merged_head)"
   ]
  },
  {
   "cell_type": "code",
   "execution_count": 31,
   "id": "b04fb8c4",
   "metadata": {},
   "outputs": [],
   "source": [
    "merge_list = linkedList()\n",
    "merge_list.head = merged_head"
   ]
  },
  {
   "cell_type": "code",
   "execution_count": 32,
   "id": "87fa79c0",
   "metadata": {},
   "outputs": [
    {
     "name": "stdout",
     "output_type": "stream",
     "text": [
      "1\n",
      "2\n",
      "3\n",
      "4\n",
      "5\n",
      "6\n"
     ]
    }
   ],
   "source": [
    "merge_list.print_list()"
   ]
  },
  {
   "cell_type": "code",
   "execution_count": 34,
   "id": "03a080ff",
   "metadata": {},
   "outputs": [],
   "source": [
    "jim = kin.sum_two_list(knn)"
   ]
  },
  {
   "cell_type": "code",
   "execution_count": 35,
   "id": "acaf4060",
   "metadata": {},
   "outputs": [
    {
     "data": {
      "text/plain": [
       "__main__.linkedList"
      ]
     },
     "execution_count": 35,
     "metadata": {},
     "output_type": "execute_result"
    }
   ],
   "source": [
    "type(jim)"
   ]
  },
  {
   "cell_type": "code",
   "execution_count": 37,
   "id": "e20204c0",
   "metadata": {},
   "outputs": [
    {
     "name": "stdout",
     "output_type": "stream",
     "text": [
      "5\n",
      "7\n",
      "9\n"
     ]
    }
   ],
   "source": [
    "jim.print_list()"
   ]
  },
  {
   "cell_type": "code",
   "execution_count": null,
   "id": "a9e03408",
   "metadata": {},
   "outputs": [],
   "source": [
    "class Node:\n",
    "    def __init__(self, data):\n",
    "        self.data = data\n",
    "        self.next = None\n",
    "\n",
    "class CircularLinkedList:\n",
    "    def __init__(self):\n",
    "        self.head = None\n",
    "\n",
    "    def prepend(self, data):\n",
    "        new_node = Node(data)\n",
    "        cur = self.head\n",
    "        new_node.next = self.head\n",
    "\n",
    "        if not self.head:\n",
    "            new_node.next = new_node\n",
    "        else:\n",
    "            while cur.next != self.head:\n",
    "                cur = cur.next\n",
    "            cur.next = new_node\n",
    "        self.head = new_node\n",
    "\n",
    "    def append(self, data):\n",
    "        new_node = Node(data)\n",
    "        if not self.head:\n",
    "            self.head = new_node\n",
    "            self.head.next = self.head\n",
    "        else:\n",
    "            cur = self.head\n",
    "            while cur.next != self.head:\n",
    "                cur = cur.next\n",
    "            cur.next = new_node\n",
    "            new_node.next = self.head\n",
    "\n",
    "    \n",
    "    def is_linked_list(self,input):\n",
    "\n",
    "        if input.head:\n",
    "            if s\n",
    "\n",
    "        cur = self.head\n",
    "        while cur:\n",
    "            cur = cur.next\n",
    "            if cur == self.head:\n",
    "                break\n",
    "        \n",
    "        if self.head == cur:\n",
    "            return True\n",
    "               "
   ]
  },
  {
   "cell_type": "code",
   "execution_count": 39,
   "id": "138f23a0",
   "metadata": {},
   "outputs": [],
   "source": [
    "circ = CircularLinkedList()"
   ]
  },
  {
   "cell_type": "code",
   "execution_count": null,
   "id": "7c010d2d",
   "metadata": {},
   "outputs": [],
   "source": [
    "circ"
   ]
  }
 ],
 "metadata": {
  "kernelspec": {
   "display_name": "Python 3",
   "language": "python",
   "name": "python3"
  },
  "language_info": {
   "codemirror_mode": {
    "name": "ipython",
    "version": 3
   },
   "file_extension": ".py",
   "mimetype": "text/x-python",
   "name": "python",
   "nbconvert_exporter": "python",
   "pygments_lexer": "ipython3",
   "version": "3.11.9"
  }
 },
 "nbformat": 4,
 "nbformat_minor": 5
}
