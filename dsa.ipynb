{
 "cells": [
  {
   "cell_type": "code",
   "execution_count": 1,
   "id": "dd6be9ad",
   "metadata": {},
   "outputs": [],
   "source": [
    "def delete(self, key):\n",
    "    cur = self.head\n",
    "    while cur:\n",
    "        if cur.data == key and cur == self.head:\n",
    "            # Case 1: Deleting the head node, and it's the only node\n",
    "            if not cur.next:\n",
    "                cur = None\n",
    "                self.head = None\n",
    "                return\n",
    "            # Case 2: Deleting the head node, and there are other nodes\n",
    "            else:\n",
    "                nxt = cur.next\n",
    "                cur.next = None\n",
    "                nxt.prev = None\n",
    "                cur = None\n",
    "                self.head = nxt\n",
    "                return\n",
    "        elif cur.data == key:\n",
    "            # Case 3: Deleting a node that is not the head\n",
    "            if cur.next: # Deleting a middle node\n",
    "                nxt = cur.next\n",
    "                prev = cur.prev\n",
    "                prev.next = nxt\n",
    "                nxt.prev = prev\n",
    "                cur.next = None\n",
    "                cur.prev = None\n",
    "                cur = None\n",
    "                return\n",
    "            else: # Deleting the tail node\n",
    "                prev = cur.prev\n",
    "                prev.next = None\n",
    "                cur.prev = None\n",
    "                cur = None\n",
    "                return\n",
    "        cur = cur.next # Move to the next node in the list"
   ]
  },
  {
   "cell_type": "code",
   "execution_count": 2,
   "id": "0c7b6569",
   "metadata": {},
   "outputs": [],
   "source": [
    "def remove_duplicates(self):\n",
    "    cur = self.head\n",
    "    dup = dict()\n",
    "\n",
    "    prev = None\n",
    "    while cur:\n",
    "        if cur.data in dup:\n",
    "            prev.next = cur.next\n",
    "            cur = None\n",
    "\n",
    "        else:\n",
    "            dup[cur.data] = 1\n",
    "            prev = cur \n",
    "            cur = cur.next\n",
    "    \n",
    "  \n",
    "def delete_node(self, node):\n",
    "    cur = self.head\n",
    "    while cur:\n",
    "        if cur == node and cur == self.head:\n",
    "            # Case 1:\n",
    "            if not cur.next:\n",
    "                cur = None \n",
    "                self.head = None\n",
    "                return\n",
    "\n",
    "            # Case 2:\n",
    "            else:\n",
    "                nxt = cur.next\n",
    "                cur.next = None \n",
    "                nxt.prev = None\n",
    "                cur = None\n",
    "                self.head = nxt\n",
    "                return \n",
    "\n",
    "        elif cur == node:\n",
    "        # Case 3:\n",
    "            if cur.next:\n",
    "                nxt = cur.next \n",
    "                prev = cur.prev\n",
    "                prev.next = nxt\n",
    "                nxt.prev = prev\n",
    "                cur.next = None \n",
    "                cur.prev = None\n",
    "                cur = None\n",
    "                return\n",
    "\n",
    "            # Case 4:\n",
    "            else:\n",
    "                prev = cur.prev \n",
    "                prev.next = None \n",
    "                cur.prev = None \n",
    "                cur = None \n",
    "                return \n",
    "            \n",
    "        cur = cur.next"
   ]
  },
  {
   "cell_type": "code",
   "execution_count": 4,
   "id": "429e7d88",
   "metadata": {},
   "outputs": [],
   "source": [
    "def sum_of_pairs(self,sum_val):\n",
    "    \n",
    "    cur = self.head\n",
    "    prev = None\n",
    "    pist = []\n",
    "\n",
    "    while cur:\n",
    "        if cur.data + prev.data == sum_val:\n",
    "            pist.append(tuple(cur.data,prev.data))\n",
    "            prev = cur\n",
    "            cur = cur.next\n",
    "        else:\n",
    "            continue\n",
    "        \n",
    "        \n"
   ]
  },
  {
   "cell_type": "code",
   "execution_count": 6,
   "id": "110da08c",
   "metadata": {},
   "outputs": [],
   "source": [
    "def is_pelindrome(listt):\n",
    "    return str(listt) == str(listt[::-1])"
   ]
  },
  {
   "cell_type": "code",
   "execution_count": 10,
   "id": "7b5acca9",
   "metadata": {},
   "outputs": [
    {
     "data": {
      "text/plain": [
       "False"
      ]
     },
     "execution_count": 10,
     "metadata": {},
     "output_type": "execute_result"
    }
   ],
   "source": [
    "is_pelindrome('abc')"
   ]
  },
  {
   "cell_type": "code",
   "execution_count": 13,
   "id": "b8dcca05",
   "metadata": {},
   "outputs": [],
   "source": [
    "class Stack(object):\n",
    "    def __init__(self):\n",
    "        self.items = []\n",
    "\n",
    "    def __len__(self):\n",
    "        return self.size()\n",
    "     \n",
    "    def size(self):\n",
    "        return len(self.items)\n",
    "\n",
    "    def push(self, item):\n",
    "        self.items.append(item)\n",
    "\n",
    "    def pop(self):  \n",
    "        if not self.is_empty():\n",
    "            return self.items.pop()\n",
    "\n",
    "    def peek(self):\n",
    "        if not self.is_empty():\n",
    "            return self.items[-1]\n",
    "\n",
    "    def is_empty(self):\n",
    "        return len(self.items) == 0\n",
    "\n",
    "    def __str__(self):\n",
    "        s = \"\"\n",
    "        for i in range(len(self.items)):\n",
    "            s += str(self.items[i].value) + \"-\"\n",
    "        return s\n",
    "\n",
    "\n",
    "class Queue(object):\n",
    "    def __init__(self):\n",
    "        self.items = []\n",
    "\n",
    "    def __len__(self):\n",
    "        return self.size()\n",
    "\n",
    "    def enqueue(self, item):\n",
    "        self.items.insert(0, item)\n",
    "\n",
    "    def dequeue(self):\n",
    "        if not self.is_empty():\n",
    "            return self.items.pop()\n",
    "\n",
    "    def size(self):\n",
    "        return len(self.items)\n",
    "\n",
    "    def is_empty(self):\n",
    "        return len(self.items) == 0\n",
    "\n",
    "    def peek(self):\n",
    "        if not self.is_empty():\n",
    "            return self.items[-1].value\n",
    "\n",
    "\n",
    "class Node(object):\n",
    "    def __init__(self, value):\n",
    "        self.value = value\n",
    "        self.left = None\n",
    "        self.right = None\n",
    "\n",
    "\n",
    "class BinaryTree(object):\n",
    "    def __init__(self, root):\n",
    "        self.root = Node(root)\n",
    "\n",
    "    def print_tree(self, traversal_type):\n",
    "        if traversal_type == \"preorder\":\n",
    "            return self.preorder_print(BinaryTree.root, \"\")\n",
    "        elif traversal_type == \"inorder\":\n",
    "            return self.inorder_print(BinaryTree.root, \"\")\n",
    "        elif traversal_type == \"postorder\":\n",
    "            return self.postorder_print(BinaryTree.root, \"\")\n",
    "        elif traversal_type == \"levelorder\":\n",
    "            return self.levelorder_print(BinaryTree.root)\n",
    "        elif traversal_type == \"reverse_levelorder\":\n",
    "            return self.reverse_levelorder_print(BinaryTree.root)\n",
    "        else:\n",
    "            print(\"Traversal type \" + str(traversal_type) + \" not recognized.\")\n",
    "            return False\n",
    "\n",
    "    def levelorder_print(self, start):\n",
    "        if start is None:\n",
    "            return\n",
    "        queue = Queue()\n",
    "        queue.enqueue(start)\n",
    "\n",
    "        traversal = \"\"\n",
    "        while len(queue) > 0:\n",
    "            traversal += str(queue.peek()) + \"-\"\n",
    "            node = queue.dequeue()\n",
    "\n",
    "            if node.left:\n",
    "                queue.enqueue(node.left)\n",
    "            if node.right:\n",
    "                queue.enqueue(node.right)\n",
    "\n",
    "        return traversal\n",
    "\n",
    "    def preorder_print(self, start, traversal):\n",
    "        \"\"\"Root->Left-Right\"\"\"\n",
    "        if start:\n",
    "            traversal += (str(start.value) + \"-\")\n",
    "            traversal = self.preorder_print(start.left, traversal)\n",
    "            traversal = self.preorder_print(start.right, traversal)\n",
    "        return traversal\n",
    "\n",
    "    def inorder_print(self, start, traversal):\n",
    "        \"\"\"Left->Root->Right\"\"\"\n",
    "        if start:\n",
    "            traversal = self.inorder_print(start.left, traversal)\n",
    "            traversal += (str(start.value) + \"-\")\n",
    "            traversal = self.inorder_print(start.right, traversal)\n",
    "        return traversal\n",
    "\n",
    "    def postorder_print(self, start, traversal):\n",
    "        \"\"\"Left->Right->Root\"\"\"\n",
    "        if start:\n",
    "            traversal = self.postorder_print(start.left, traversal)\n",
    "            traversal = self.postorder_print(start.right, traversal)\n",
    "            traversal += (str(start.value) + \"-\")\n",
    "        return traversal\n",
    "\n",
    "    def reverse_levelorder_print(self, start):\n",
    "        if start is None:\n",
    "            return \n",
    "\n",
    "        queue = Queue()\n",
    "        stack = Stack()\n",
    "        queue.enqueue(start)\n",
    "\n",
    "\n",
    "        traversal = \"\"\n",
    "        while len(queue) > 0:\n",
    "            node = queue.dequeue()\n",
    "\n",
    "            stack.push(node)\n",
    "\n",
    "            if node.right:\n",
    "                queue.enqueue(node.right)\n",
    "            if node.left:\n",
    "                queue.enqueue(node.left)\n",
    "        \n",
    "        while len(stack) > 0:\n",
    "            node = stack.pop()\n",
    "            traversal += str(node.value) + \"-\"\n",
    "\n",
    "        return traversal\n",
    "        \n",
    "    def height(self, node):\n",
    "      if node is None:\n",
    "        return -1\n",
    "      left_height = self.height(node.left)\n",
    "      right_height = self.height(node.right)\n",
    "\n",
    "      return 1 + max(left_height, right_height)\n",
    "    \n",
    "    def size_(self,node):\n",
    "        if node.right or node.left is None:\n",
    "            return 0\n",
    "\n",
    "\n",
    "        return 1 + self.size_(node.left) + self.size_(node.right)"
   ]
  },
  {
   "cell_type": "code",
   "execution_count": 14,
   "id": "47e120e4",
   "metadata": {},
   "outputs": [
    {
     "name": "stdout",
     "output_type": "stream",
     "text": [
      "2\n"
     ]
    }
   ],
   "source": [
    "\n",
    "# Calculate height of binary tree:\n",
    "#     1\n",
    "#    / \\\n",
    "#   2  3\n",
    "#  / \\\n",
    "# 4  5\n",
    "# \n",
    "tree = BinaryTree(1)\n",
    "tree.root.left = Node(2)\n",
    "tree.root.right = Node(3)\n",
    "tree.root.left.left = Node(4)\n",
    "tree.root.left.right = Node(5)\n",
    "\n",
    "print(tree.height(tree.root))"
   ]
  },
  {
   "cell_type": "code",
   "execution_count": 19,
   "id": "ee353284",
   "metadata": {},
   "outputs": [
    {
     "data": {
      "text/plain": [
       "'postorder_print1-2-4-5-3-'"
      ]
     },
     "execution_count": 19,
     "metadata": {},
     "output_type": "execute_result"
    }
   ],
   "source": [
    "tree.preorder_print(tree.root,'postorder_print')"
   ]
  },
  {
   "cell_type": "code",
   "execution_count": 22,
   "id": "e29204d7",
   "metadata": {},
   "outputs": [],
   "source": [
    "class Node(object):\n",
    "    def __init__(self, data):\n",
    "        self.data = data\n",
    "        self.left = None\n",
    "        self.right = None\n",
    "\n",
    "class BST(object):\n",
    "    def __init__(self, root):\n",
    "        self.root = Node(root)\n",
    "\n",
    "    def insert(self, new_val):\n",
    "        self.insert_helper(self.root, new_val)\n",
    "\n",
    "    def insert_helper(self, current, new_val):\n",
    "        if current.data < new_val:\n",
    "            if current.right:\n",
    "                self.insert_helper(current.right, new_val)\n",
    "            else:\n",
    "                current.right = Node(new_val)\n",
    "        else:\n",
    "            if current.left:\n",
    "                self.insert_helper(current.left, new_val)\n",
    "            else:\n",
    "                current.left = Node(new_val)\n",
    "\n",
    "    def search(self, find_val):\n",
    "        return self.search_helper(self.root, find_val)\n",
    "\n",
    "    def search_helper(self, current, find_val):\n",
    "        if current:\n",
    "            if current.data == find_val:\n",
    "                return True\n",
    "            elif current.data < find_val:\n",
    "                return self.search_helper(current.right, find_val)\n",
    "            else:\n",
    "                return self.search_helper(current.left, find_val)\n",
    "        return False\n",
    "    \n",
    "    def is_bst_satisfied(self):\n",
    "\n",
    "        def helper(node,min_val,max_val):\n",
    "             \n",
    "            if not node:\n",
    "                return True\n",
    "            \n",
    "            if not (min_val< node.data< max_val):\n",
    "                return False\n",
    "            \n",
    "            if not helper(node.right,node.data,max_val) and helper(node.left,min_val,node.data):\n",
    "                return False\n",
    "            \n",
    "            return helper(self.root,float('-inf'),float('inf'))\n",
    "\n",
    "\n",
    "\n",
    "            \n",
    "        \n",
    "\n"
   ]
  },
  {
   "cell_type": "code",
   "execution_count": 33,
   "id": "6f44e78c",
   "metadata": {},
   "outputs": [],
   "source": [
    "def bitonic(some):\n",
    "\n",
    "    # prev = 0\n",
    "    # curr = prev + 1 \n",
    "    # is_true = True\n",
    "\n",
    "    # while is_true:\n",
    "    #     if len(some) == 0:\n",
    "    #         is_true = False\n",
    "    #         return 0\n",
    "        \n",
    "    #     elif len(some) == 1:\n",
    "    #         is_true = False\n",
    "    #         return some[0]\n",
    "        \n",
    "    #     else:\n",
    "    low = 0 \n",
    "    high = len(some)-1\n",
    "\n",
    "    while low <= high:\n",
    "        mid = low+high // 2\n",
    "\n",
    "        if some[mid] > some[mid-1] and some[mid] > some[mid+1]:\n",
    "            break\n",
    "            \n",
    "        # return some[mid]\n",
    "         \n",
    "        elif some[mid]> some[mid-1] and some[mid] < some[mid+1]:\n",
    "            low += 1\n",
    "        \n",
    "        elif some[mid]> some[mid+1] and some[mid] < some[mid-1]:\n",
    "            high -= 1\n",
    "\n",
    "        else:\n",
    "            return None\n",
    "\n",
    "    return some[mid]\n",
    "\n",
    "        \n",
    "        \n",
    "            \n",
    "    \n",
    "        \n"
   ]
  },
  {
   "cell_type": "code",
   "execution_count": 34,
   "id": "51c41f6e",
   "metadata": {},
   "outputs": [
    {
     "name": "stdout",
     "output_type": "stream",
     "text": [
      "5\n"
     ]
    }
   ],
   "source": [
    "A = [1, 2, 3, 4, 5, 4, 3, 2, 1]\n",
    "print(bitonic(A))"
   ]
  },
  {
   "cell_type": "code",
   "execution_count": 35,
   "id": "e2f222ee",
   "metadata": {},
   "outputs": [
    {
     "name": "stdout",
     "output_type": "stream",
     "text": [
      "6\n"
     ]
    }
   ],
   "source": [
    "A = [1, 6, 5, 4, 3, 2, 1]\n",
    "print(bitonic(A))"
   ]
  },
  {
   "cell_type": "code",
   "execution_count": 41,
   "id": "a6616389",
   "metadata": {},
   "outputs": [
    {
     "name": "stdout",
     "output_type": "stream",
     "text": [
      "2\n"
     ]
    }
   ],
   "source": [
    "def find(A, target):\n",
    "    low = 0\n",
    "    high = len(A) - 1\n",
    "\n",
    "    while low <= high:\n",
    "        mid = (low + high) // 2\n",
    "\n",
    "        if A[mid] < target:\n",
    "            low = mid + 1\n",
    "        elif A[mid] > target:\n",
    "            high = mid - 1\n",
    "        else:\n",
    "            if mid - 1 < 0:\n",
    "                return mid\n",
    "            if A[mid - 1] != target:\n",
    "                return mid\n",
    "            high = mid - 1\n",
    "\n",
    "A = [-14,-10,3,3, 108, 243, 285, 285, 285, 401]\n",
    "target = 3\n",
    "x = find(A, target)\n",
    "print(x)\n",
    "\n"
   ]
  },
  {
   "cell_type": "code",
   "execution_count": 46,
   "id": "6ad5e2d8",
   "metadata": {},
   "outputs": [],
   "source": [
    "def integer_square(k):\n",
    "    count = 0\n",
    "    while count**2 <= k:\n",
    "        count += 1\n",
    "    return count-1"
   ]
  },
  {
   "cell_type": "code",
   "execution_count": 49,
   "id": "e507f354",
   "metadata": {},
   "outputs": [
    {
     "data": {
      "text/plain": [
       "15"
      ]
     },
     "execution_count": 49,
     "metadata": {},
     "output_type": "execute_result"
    }
   ],
   "source": [
    "integer_square(225)"
   ]
  },
  {
   "cell_type": "code",
   "execution_count": 56,
   "id": "61cbcfd6",
   "metadata": {},
   "outputs": [],
   "source": [
    "def recursive_mult(a,b):\n",
    "    if b == 0:\n",
    "        return 0\n",
    "    \n",
    "    return a + recursive_mult(a,b-1)"
   ]
  },
  {
   "cell_type": "code",
   "execution_count": 57,
   "id": "38fef4ce",
   "metadata": {},
   "outputs": [
    {
     "data": {
      "text/plain": [
       "42"
      ]
     },
     "execution_count": 57,
     "metadata": {},
     "output_type": "execute_result"
    }
   ],
   "source": [
    "recursive_mult(7,6)"
   ]
  },
  {
   "cell_type": "code",
   "execution_count": 59,
   "id": "83ed0217",
   "metadata": {},
   "outputs": [],
   "source": [
    "def is_unique(input_str):\n",
    "\n",
    "    h = dict()\n",
    "\n",
    "    for i in input_str:\n",
    "        if i in h:\n",
    "            h[i] += 1\n",
    "        else:\n",
    "            h[i] = 1\n",
    "    \n",
    "    for i in h: \n",
    "        if h[i] != 1:\n",
    "            return False\n",
    "        else :\n",
    "            return True"
   ]
  },
  {
   "cell_type": "code",
   "execution_count": 61,
   "id": "ae0de34f",
   "metadata": {},
   "outputs": [
    {
     "data": {
      "text/plain": [
       "False"
      ]
     },
     "execution_count": 61,
     "metadata": {},
     "output_type": "execute_result"
    }
   ],
   "source": [
    "is_unique('abca')"
   ]
  },
  {
   "cell_type": "code",
   "execution_count": 62,
   "id": "74eba5b6",
   "metadata": {},
   "outputs": [
    {
     "name": "stdout",
     "output_type": "stream",
     "text": [
      "Counter({'u': 3, 's': 2, 'p': 1, 'e': 1, 'r': 1, 'f': 1, 'l': 1, 'o': 1})\n",
      "3\n"
     ]
    }
   ],
   "source": [
    "from collections import Counter\n",
    "print (Counter('superfluous'))\n",
    "\n",
    "counter = Counter('superfluous')\n",
    "print (counter['u'])"
   ]
  },
  {
   "cell_type": "code",
   "execution_count": 65,
   "id": "8600f7b4",
   "metadata": {},
   "outputs": [
    {
     "name": "stdout",
     "output_type": "stream",
     "text": [
      "[('u', 3), ('s', 2), ('p', 1)]\n"
     ]
    }
   ],
   "source": [
    "print(list(counter.most_common(3)))"
   ]
  },
  {
   "cell_type": "code",
   "execution_count": 66,
   "id": "c91516d2",
   "metadata": {},
   "outputs": [
    {
     "name": "stdout",
     "output_type": "stream",
     "text": [
      "Monkey\n",
      "defaultdict(<function <lambda> at 0x000001CD9EBD7C40>, {'Sam': 'Tiger', 'Nick': 'Monkey'})\n"
     ]
    }
   ],
   "source": [
    "from collections import defaultdict\n",
    "\n",
    "animal = defaultdict(lambda: \"Monkey\")\n",
    "animal['Sam'] = 'Tiger'\n",
    "print(animal['Nick'])\n",
    "\n",
    "print(animal)"
   ]
  },
  {
   "cell_type": "code",
   "execution_count": 67,
   "id": "5afd55d3",
   "metadata": {},
   "outputs": [
    {
     "name": "stdout",
     "output_type": "stream",
     "text": [
      "deque(['a', 'b', 'c', 'd', 'e', 'f', 'g', 'h', 'i', 'j', 'k', 'l', 'm', 'n', 'o', 'p', 'q', 'r', 's', 't', 'u', 'v', 'w', 'x', 'y', 'z'])\n",
      "deque(['a', 'b', 'c', 'd', 'e', 'f', 'g', 'h', 'i', 'j', 'k', 'l', 'm', 'n', 'o', 'p', 'q', 'r', 's', 't', 'u', 'v', 'w', 'x', 'y', 'z'])\n",
      "deque(['a', 'b', 'c', 'd', 'e', 'f', 'g', 'h', 'i', 'j', 'k', 'l', 'm', 'n', 'o', 'p', 'q', 'r', 's', 't', 'u', 'v', 'w', 'x', 'y', 'z'])\n",
      "deque(['a', 'b', 'c', 'd', 'e', 'f', 'g', 'h', 'i', 'j', 'k', 'l', 'm', 'n', 'o', 'p', 'q', 'r', 's', 't', 'u', 'v', 'w', 'x', 'y', 'z'])\n",
      "deque(['a', 'b', 'c', 'd', 'e', 'f', 'g', 'h', 'i', 'j', 'k', 'l', 'm', 'n', 'o', 'p', 'q', 'r', 's', 't', 'u', 'v', 'w', 'x', 'y', 'z'])\n",
      "deque(['a', 'b', 'c', 'd', 'e', 'f', 'g', 'h', 'i', 'j', 'k', 'l', 'm', 'n', 'o', 'p', 'q', 'r', 's', 't', 'u', 'v', 'w', 'x', 'y', 'z'])\n",
      "deque(['a', 'b', 'c', 'd', 'e', 'f', 'g', 'h', 'i', 'j', 'k', 'l', 'm', 'n', 'o', 'p', 'q', 'r', 's', 't', 'u', 'v', 'w', 'x', 'y', 'z'])\n",
      "deque(['a', 'b', 'c', 'd', 'e', 'f', 'g', 'h', 'i', 'j', 'k', 'l', 'm', 'n', 'o', 'p', 'q', 'r', 's', 't', 'u', 'v', 'w', 'x', 'y', 'z'])\n",
      "deque(['a', 'b', 'c', 'd', 'e', 'f', 'g', 'h', 'i', 'j', 'k', 'l', 'm', 'n', 'o', 'p', 'q', 'r', 's', 't', 'u', 'v', 'w', 'x', 'y', 'z'])\n",
      "deque(['a', 'b', 'c', 'd', 'e', 'f', 'g', 'h', 'i', 'j', 'k', 'l', 'm', 'n', 'o', 'p', 'q', 'r', 's', 't', 'u', 'v', 'w', 'x', 'y', 'z'])\n",
      "deque(['a', 'b', 'c', 'd', 'e', 'f', 'g', 'h', 'i', 'j', 'k', 'l', 'm', 'n', 'o', 'p', 'q', 'r', 's', 't', 'u', 'v', 'w', 'x', 'y', 'z'])\n",
      "deque(['a', 'b', 'c', 'd', 'e', 'f', 'g', 'h', 'i', 'j', 'k', 'l', 'm', 'n', 'o', 'p', 'q', 'r', 's', 't', 'u', 'v', 'w', 'x', 'y', 'z'])\n",
      "deque(['a', 'b', 'c', 'd', 'e', 'f', 'g', 'h', 'i', 'j', 'k', 'l', 'm', 'n', 'o', 'p', 'q', 'r', 's', 't', 'u', 'v', 'w', 'x', 'y', 'z'])\n",
      "deque(['a', 'b', 'c', 'd', 'e', 'f', 'g', 'h', 'i', 'j', 'k', 'l', 'm', 'n', 'o', 'p', 'q', 'r', 's', 't', 'u', 'v', 'w', 'x', 'y', 'z'])\n",
      "deque(['a', 'b', 'c', 'd', 'e', 'f', 'g', 'h', 'i', 'j', 'k', 'l', 'm', 'n', 'o', 'p', 'q', 'r', 's', 't', 'u', 'v', 'w', 'x', 'y', 'z'])\n",
      "deque(['a', 'b', 'c', 'd', 'e', 'f', 'g', 'h', 'i', 'j', 'k', 'l', 'm', 'n', 'o', 'p', 'q', 'r', 's', 't', 'u', 'v', 'w', 'x', 'y', 'z'])\n",
      "deque(['a', 'b', 'c', 'd', 'e', 'f', 'g', 'h', 'i', 'j', 'k', 'l', 'm', 'n', 'o', 'p', 'q', 'r', 's', 't', 'u', 'v', 'w', 'x', 'y', 'z'])\n",
      "deque(['a', 'b', 'c', 'd', 'e', 'f', 'g', 'h', 'i', 'j', 'k', 'l', 'm', 'n', 'o', 'p', 'q', 'r', 's', 't', 'u', 'v', 'w', 'x', 'y', 'z'])\n",
      "deque(['a', 'b', 'c', 'd', 'e', 'f', 'g', 'h', 'i', 'j', 'k', 'l', 'm', 'n', 'o', 'p', 'q', 'r', 's', 't', 'u', 'v', 'w', 'x', 'y', 'z'])\n",
      "deque(['a', 'b', 'c', 'd', 'e', 'f', 'g', 'h', 'i', 'j', 'k', 'l', 'm', 'n', 'o', 'p', 'q', 'r', 's', 't', 'u', 'v', 'w', 'x', 'y', 'z'])\n",
      "deque(['a', 'b', 'c', 'd', 'e', 'f', 'g', 'h', 'i', 'j', 'k', 'l', 'm', 'n', 'o', 'p', 'q', 'r', 's', 't', 'u', 'v', 'w', 'x', 'y', 'z'])\n",
      "deque(['a', 'b', 'c', 'd', 'e', 'f', 'g', 'h', 'i', 'j', 'k', 'l', 'm', 'n', 'o', 'p', 'q', 'r', 's', 't', 'u', 'v', 'w', 'x', 'y', 'z'])\n",
      "deque(['a', 'b', 'c', 'd', 'e', 'f', 'g', 'h', 'i', 'j', 'k', 'l', 'm', 'n', 'o', 'p', 'q', 'r', 's', 't', 'u', 'v', 'w', 'x', 'y', 'z'])\n",
      "deque(['a', 'b', 'c', 'd', 'e', 'f', 'g', 'h', 'i', 'j', 'k', 'l', 'm', 'n', 'o', 'p', 'q', 'r', 's', 't', 'u', 'v', 'w', 'x', 'y', 'z'])\n",
      "deque(['a', 'b', 'c', 'd', 'e', 'f', 'g', 'h', 'i', 'j', 'k', 'l', 'm', 'n', 'o', 'p', 'q', 'r', 's', 't', 'u', 'v', 'w', 'x', 'y', 'z'])\n",
      "deque(['a', 'b', 'c', 'd', 'e', 'f', 'g', 'h', 'i', 'j', 'k', 'l', 'm', 'n', 'o', 'p', 'q', 'r', 's', 't', 'u', 'v', 'w', 'x', 'y', 'z'])\n"
     ]
    }
   ],
   "source": [
    "import string\n",
    "from collections import deque\n",
    "\n",
    "d = deque(string.ascii_lowercase)\n",
    "for word in d:\n",
    "    print(d)"
   ]
  },
  {
   "cell_type": "code",
   "execution_count": 68,
   "id": "2b034f81",
   "metadata": {},
   "outputs": [
    {
     "data": {
      "text/plain": [
       "26"
      ]
     },
     "execution_count": 68,
     "metadata": {},
     "output_type": "execute_result"
    }
   ],
   "source": [
    "len(d)"
   ]
  },
  {
   "cell_type": "code",
   "execution_count": 69,
   "id": "b8a13635",
   "metadata": {},
   "outputs": [],
   "source": [
    "d.append('bonk')"
   ]
  },
  {
   "cell_type": "code",
   "execution_count": 70,
   "id": "3be50cfb",
   "metadata": {},
   "outputs": [
    {
     "data": {
      "text/plain": [
       "deque(['a',\n",
       "       'b',\n",
       "       'c',\n",
       "       'd',\n",
       "       'e',\n",
       "       'f',\n",
       "       'g',\n",
       "       'h',\n",
       "       'i',\n",
       "       'j',\n",
       "       'k',\n",
       "       'l',\n",
       "       'm',\n",
       "       'n',\n",
       "       'o',\n",
       "       'p',\n",
       "       'q',\n",
       "       'r',\n",
       "       's',\n",
       "       't',\n",
       "       'u',\n",
       "       'v',\n",
       "       'w',\n",
       "       'x',\n",
       "       'y',\n",
       "       'z',\n",
       "       'bonk'])"
      ]
     },
     "execution_count": 70,
     "metadata": {},
     "output_type": "execute_result"
    }
   ],
   "source": [
    "d"
   ]
  },
  {
   "cell_type": "code",
   "execution_count": 71,
   "id": "8fd9b371",
   "metadata": {},
   "outputs": [],
   "source": [
    "d.appendleft('d98')"
   ]
  },
  {
   "cell_type": "code",
   "execution_count": 72,
   "id": "57450b2f",
   "metadata": {},
   "outputs": [
    {
     "data": {
      "text/plain": [
       "deque(['d98',\n",
       "       'a',\n",
       "       'b',\n",
       "       'c',\n",
       "       'd',\n",
       "       'e',\n",
       "       'f',\n",
       "       'g',\n",
       "       'h',\n",
       "       'i',\n",
       "       'j',\n",
       "       'k',\n",
       "       'l',\n",
       "       'm',\n",
       "       'n',\n",
       "       'o',\n",
       "       'p',\n",
       "       'q',\n",
       "       'r',\n",
       "       's',\n",
       "       't',\n",
       "       'u',\n",
       "       'v',\n",
       "       'w',\n",
       "       'x',\n",
       "       'y',\n",
       "       'z',\n",
       "       'bonk'])"
      ]
     },
     "execution_count": 72,
     "metadata": {},
     "output_type": "execute_result"
    }
   ],
   "source": [
    "d"
   ]
  },
  {
   "cell_type": "code",
   "execution_count": 85,
   "id": "50f3c12b",
   "metadata": {},
   "outputs": [],
   "source": [
    "d.rotate()"
   ]
  },
  {
   "cell_type": "code",
   "execution_count": 87,
   "id": "1a5ccab7",
   "metadata": {},
   "outputs": [
    {
     "name": "stdout",
     "output_type": "stream",
     "text": [
      "1234\n"
     ]
    }
   ],
   "source": [
    "from collections import namedtuple\n",
    "\n",
    "Parts = namedtuple('Parts', 'id_num desc cost amount')\n",
    "auto_parts = Parts(id_num='1234', desc='Ford Engine',\n",
    "                   cost=1200.00, amount=10)\n",
    "print(auto_parts.id_num)"
   ]
  },
  {
   "cell_type": "code",
   "execution_count": 88,
   "id": "d525b2f7",
   "metadata": {},
   "outputs": [
    {
     "name": "stdout",
     "output_type": "stream",
     "text": [
      "<class '__main__.Parts'>\n",
      "Parts(id_num='1234', desc='Ford Engine', cost=1200.0, amount=10)\n"
     ]
    }
   ],
   "source": [
    "from collections import namedtuple\n",
    "\n",
    "Parts = {'id_num':'1234', 'desc':'Ford Engine',\n",
    "'cost':1200.00, 'amount':10}\n",
    "parts = namedtuple('Parts', Parts.keys())\n",
    "print (parts)\n",
    "\n",
    "auto_parts = parts(**Parts)\n",
    "print (auto_parts)"
   ]
  },
  {
   "cell_type": "code",
   "execution_count": 91,
   "id": "abfe7c9e",
   "metadata": {},
   "outputs": [
    {
     "data": {
      "text/plain": [
       "dict"
      ]
     },
     "execution_count": 91,
     "metadata": {},
     "output_type": "execute_result"
    }
   ],
   "source": [
    "type(Parts)"
   ]
  },
  {
   "cell_type": "code",
   "execution_count": 92,
   "id": "99521241",
   "metadata": {},
   "outputs": [
    {
     "name": "stdout",
     "output_type": "stream",
     "text": [
      "OrderedDict([('apple', 4), ('banana', 3), ('orange', 2), ('pear', 1)])\n",
      "apple 4\n",
      "banana 3\n",
      "orange 2\n",
      "pear 1\n"
     ]
    }
   ],
   "source": [
    "from collections import OrderedDict\n",
    "\n",
    "d = {'banana': 3, 'apple': 4, 'pear': 1, 'orange': 2}\n",
    "new_d = OrderedDict(sorted(d.items()))\n",
    "print(new_d)\n",
    "\n",
    "for key in new_d:\n",
    "    print(key, new_d[key])"
   ]
  },
  {
   "cell_type": "code",
   "execution_count": 93,
   "id": "73bb56eb",
   "metadata": {},
   "outputs": [
    {
     "name": "stdout",
     "output_type": "stream",
     "text": [
      "1\n",
      "2\n",
      "3\n"
     ]
    }
   ],
   "source": [
    "my_list = [1,2,3]\n",
    "\n",
    "for item in iter(my_list):\n",
    "    print(item)"
   ]
  },
  {
   "cell_type": "code",
   "execution_count": 94,
   "id": "418563a7",
   "metadata": {},
   "outputs": [
    {
     "name": "stdout",
     "output_type": "stream",
     "text": [
      "<list_iterator object at 0x000001CD9EC65300>\n"
     ]
    }
   ],
   "source": [
    "print(iter(my_list))"
   ]
  },
  {
   "cell_type": "code",
   "execution_count": 95,
   "id": "10dc5166",
   "metadata": {},
   "outputs": [],
   "source": [
    "list_iterator = iter(my_list)\n",
    "\n"
   ]
  },
  {
   "cell_type": "code",
   "execution_count": 96,
   "id": "65d94bf9",
   "metadata": {},
   "outputs": [
    {
     "data": {
      "text/plain": [
       "1"
      ]
     },
     "execution_count": 96,
     "metadata": {},
     "output_type": "execute_result"
    }
   ],
   "source": [
    "next(list_iterator)"
   ]
  },
  {
   "cell_type": "code",
   "execution_count": 97,
   "id": "b3831ddd",
   "metadata": {},
   "outputs": [
    {
     "data": {
      "text/plain": [
       "2"
      ]
     },
     "execution_count": 97,
     "metadata": {},
     "output_type": "execute_result"
    }
   ],
   "source": [
    "next(list_iterator)"
   ]
  },
  {
   "cell_type": "code",
   "execution_count": 101,
   "id": "31d210e9",
   "metadata": {},
   "outputs": [],
   "source": [
    "from itertools import count, cycle"
   ]
  },
  {
   "cell_type": "code",
   "execution_count": 102,
   "id": "f6dee06d",
   "metadata": {},
   "outputs": [
    {
     "name": "stdout",
     "output_type": "stream",
     "text": [
      "20\n",
      "25\n",
      "30\n",
      "35\n",
      "40\n"
     ]
    }
   ],
   "source": [
    "for i in count(20,5):\n",
    "    if i > 40: \n",
    "        break\n",
    "    else:\n",
    "        print(i)\n",
    "    "
   ]
  },
  {
   "cell_type": "code",
   "execution_count": 103,
   "id": "e6ec9b76",
   "metadata": {},
   "outputs": [
    {
     "name": "stdout",
     "output_type": "stream",
     "text": [
      "3\n",
      "3\n",
      "3\n",
      "3\n",
      "3\n",
      "3\n",
      "3\n",
      "3\n"
     ]
    }
   ],
   "source": [
    "count = 0\n",
    "for i in cycle('xyz'):\n",
    "\n",
    "    if count > 7:\n",
    "        break\n",
    "\n",
    "    else:\n",
    "        print(item)\n",
    "        count += 1"
   ]
  },
  {
   "cell_type": "code",
   "execution_count": null,
   "id": "39660f24",
   "metadata": {},
   "outputs": [],
   "source": []
  },
  {
   "cell_type": "code",
   "execution_count": 110,
   "id": "008f6b87",
   "metadata": {},
   "outputs": [],
   "source": [
    "from itertools import repeat"
   ]
  },
  {
   "cell_type": "code",
   "execution_count": 112,
   "id": "3f084cfe",
   "metadata": {},
   "outputs": [
    {
     "name": "stdout",
     "output_type": "stream",
     "text": [
      "5\n"
     ]
    }
   ],
   "source": [
    "repeat(5,5)\n",
    "# repeat(5,5)\n",
    "\n",
    "iterator = repeat(5,5)\n",
    "\n",
    "print(next(iterator))"
   ]
  },
  {
   "cell_type": "code",
   "execution_count": 116,
   "id": "cffed4ef",
   "metadata": {},
   "outputs": [
    {
     "name": "stdout",
     "output_type": "stream",
     "text": [
      "False\n"
     ]
    }
   ],
   "source": [
    "widget_one = ''\n",
    "widget_two = ''\n",
    "widget_three = ''\n",
    "widgets_exist = any([widget_one, widget_two, widget_three])\n",
    "print(widgets_exist)"
   ]
  },
  {
   "cell_type": "code",
   "execution_count": 118,
   "id": "d84982ee",
   "metadata": {},
   "outputs": [
    {
     "name": "stdout",
     "output_type": "stream",
     "text": [
      "True\n"
     ]
    }
   ],
   "source": [
    "a = [0,0,0,1]\n",
    "print(any(a))"
   ]
  },
  {
   "cell_type": "code",
   "execution_count": 119,
   "id": "80308c2e",
   "metadata": {},
   "outputs": [
    {
     "name": "stdout",
     "output_type": "stream",
     "text": [
      "0 a\n",
      "1 b\n",
      "2 c\n",
      "3 d\n",
      "4 f\n",
      "5 s\n",
      "6 d\n"
     ]
    }
   ],
   "source": [
    "my = 'abcdfsd'\n",
    "\n",
    "for pos, letter in enumerate(my):\n",
    "    print(pos,letter)"
   ]
  },
  {
   "cell_type": "code",
   "execution_count": 120,
   "id": "f77ef78a",
   "metadata": {},
   "outputs": [
    {
     "name": "stdout",
     "output_type": "stream",
     "text": [
      "20\n"
     ]
    }
   ],
   "source": [
    "var =  10\n",
    "source = 'var * 2'\n",
    "print(eval(source))"
   ]
  },
  {
   "cell_type": "code",
   "execution_count": 123,
   "id": "31b4bb43",
   "metadata": {},
   "outputs": [
    {
     "data": {
      "text/plain": [
       "[3, 4]"
      ]
     },
     "execution_count": 123,
     "metadata": {},
     "output_type": "execute_result"
    }
   ],
   "source": [
    "vb = [1,2,3,4] \n",
    "[x for x in vb if x>2]"
   ]
  },
  {
   "cell_type": "code",
   "execution_count": 127,
   "id": "279deda3",
   "metadata": {},
   "outputs": [
    {
     "name": "stdout",
     "output_type": "stream",
     "text": [
      "10\n",
      "5\n",
      "5\n"
     ]
    }
   ],
   "source": [
    "def my_func(a, b):\n",
    "    global x\n",
    "    print(x)\n",
    "    x = 5\n",
    "    print(x)\n",
    "\n",
    "if __name__ == '__main__':\n",
    "    x = 10\n",
    "    my_func(1, 2)\n",
    "    print(x)"
   ]
  },
  {
   "cell_type": "code",
   "execution_count": 128,
   "id": "e9c47f21",
   "metadata": {},
   "outputs": [
    {
     "name": "stdout",
     "output_type": "stream",
     "text": [
      "2 1 c is global Mike\n",
      "1 2 c is global 4\n"
     ]
    }
   ],
   "source": [
    "def my_func(a, b):\n",
    "    global c\n",
    "    # swap a and b\n",
    "    b, a = a, b\n",
    "    d = 'Mike'\n",
    "    print(a, b, c, d)\n",
    "\n",
    "a, b, c, d = 1, 2, 'c is global', 4\n",
    "my_func(1, 2)\n",
    "print(a, b, c, d)"
   ]
  },
  {
   "cell_type": "code",
   "execution_count": 132,
   "id": "abb3beaa",
   "metadata": {},
   "outputs": [
    {
     "name": "stdout",
     "output_type": "stream",
     "text": [
      "<function counter.<locals>.incrementer at 0x000001CDA0604540>\n",
      "1\n",
      "2\n",
      "3\n"
     ]
    }
   ],
   "source": [
    "def counter():\n",
    "    num = 0\n",
    "    def incrementer():\n",
    "        nonlocal num\n",
    "        num += 1\n",
    "        return num\n",
    "    return incrementer\n",
    "\n",
    "c = counter()\n",
    "\n",
    "print (c)\n",
    "\n",
    "print (c())\n",
    "\n",
    "print (c())\n",
    "\n",
    "print (c())"
   ]
  },
  {
   "cell_type": "code",
   "execution_count": 133,
   "id": "8c40b7a2",
   "metadata": {},
   "outputs": [
    {
     "name": "stdout",
     "output_type": "stream",
     "text": [
      "Requirement already satisfied: beautifulsoup4 in c:\\users\\vedpr\\appdata\\local\\packages\\pythonsoftwarefoundation.python.3.11_qbz5n2kfra8p0\\localcache\\local-packages\\python311\\site-packages (4.12.3)\n",
      "Requirement already satisfied: soupsieve>1.2 in c:\\users\\vedpr\\appdata\\local\\packages\\pythonsoftwarefoundation.python.3.11_qbz5n2kfra8p0\\localcache\\local-packages\\python311\\site-packages (from beautifulsoup4) (2.5)\n"
     ]
    },
    {
     "name": "stderr",
     "output_type": "stream",
     "text": [
      "WARNING: Ignoring invalid distribution ~ip (C:\\Users\\vedpr\\AppData\\Local\\Packages\\PythonSoftwareFoundation.Python.3.11_qbz5n2kfra8p0\\LocalCache\\local-packages\\Python311\\site-packages)\n",
      "WARNING: Ignoring invalid distribution ~orch (C:\\Users\\vedpr\\AppData\\Local\\Packages\\PythonSoftwareFoundation.Python.3.11_qbz5n2kfra8p0\\LocalCache\\local-packages\\Python311\\site-packages)\n",
      "WARNING: Ignoring invalid distribution ~ip (C:\\Users\\vedpr\\AppData\\Local\\Packages\\PythonSoftwareFoundation.Python.3.11_qbz5n2kfra8p0\\LocalCache\\local-packages\\Python311\\site-packages)\n",
      "WARNING: Ignoring invalid distribution ~orch (C:\\Users\\vedpr\\AppData\\Local\\Packages\\PythonSoftwareFoundation.Python.3.11_qbz5n2kfra8p0\\LocalCache\\local-packages\\Python311\\site-packages)\n",
      "WARNING: Ignoring invalid distribution ~ip (C:\\Users\\vedpr\\AppData\\Local\\Packages\\PythonSoftwareFoundation.Python.3.11_qbz5n2kfra8p0\\LocalCache\\local-packages\\Python311\\site-packages)\n",
      "WARNING: Ignoring invalid distribution ~orch (C:\\Users\\vedpr\\AppData\\Local\\Packages\\PythonSoftwareFoundation.Python.3.11_qbz5n2kfra8p0\\LocalCache\\local-packages\\Python311\\site-packages)\n"
     ]
    }
   ],
   "source": [
    "! pip install beautifulsoup4"
   ]
  },
  {
   "cell_type": "code",
   "execution_count": 139,
   "id": "175ef6ab",
   "metadata": {},
   "outputs": [],
   "source": [
    "import requests\n",
    "from bs4 import BeautifulSoup\n",
    "\n",
    "url = 'http://www.blog.pythonlibrary.org/'\n",
    "\n",
    "def get_articles():\n",
    "    \"\"\"\n",
    "    Get the articles from the front page of the blog\n",
    "    \"\"\"\n",
    "    req = requests.get(url)\n",
    "    html = req.text\n",
    "    soup = BeautifulSoup(html, 'html.parser')\n",
    "    pages = soup.find_all('h2', class_='entry-title')\n",
    "\n",
    "    articles = {i.a['href']: i.text.strip()\n",
    "                for i in pages if i.a}\n",
    "\n",
    "    for article in articles:\n",
    "        s = '{title}: {url}'.format(title=articles[article].encode('utf-8'), url=article)\n",
    "        print(s)\n",
    "\n",
    "    return articles\n",
    "\n"
   ]
  },
  {
   "cell_type": "code",
   "execution_count": 140,
   "id": "ca77d198",
   "metadata": {},
   "outputs": [
    {
     "name": "stdout",
     "output_type": "stream",
     "text": [
      "b'Announcing Squall: A TUI SQLite Editor': https://www.blog.pythonlibrary.org/2025/07/18/announcing-squall-a-tui-sqlite-editor/\n",
      "b'An Intro to Asciimatics \\xe2\\x80\\x93 Another Python TUI Package': https://www.blog.pythonlibrary.org/2025/07/16/an-intro-to-asciimatics-another-python-tui-package/\n",
      "b'Creating TUI Applications with Textual and Python is Released': https://www.blog.pythonlibrary.org/2025/07/15/creating-tuis-with-textual-and-python-is-released/\n",
      "b'Python eBook Fourth of July Sale': https://www.blog.pythonlibrary.org/2025/07/03/python-ebook-fourth-of-july-sale/\n",
      "b'Creating a Website with Sphinx and Markdown': https://www.blog.pythonlibrary.org/2025/07/01/creating-a-website-with-sphinx-and-markdown/\n",
      "b'An Intro to ty \\xe2\\x80\\x93 The Extremely Fast Python type checker': https://www.blog.pythonlibrary.org/2025/06/25/an-intro-to-ty-the-extremely-fast-python-type-checker/\n",
      "b'Python 201 \\xe2\\x80\\x93 All About the TypedDict': https://www.blog.pythonlibrary.org/2025/06/17/python-201-all-about-the-typeddict/\n",
      "b'Parsing XML Comments with Python': https://www.blog.pythonlibrary.org/2025/06/05/parsing-xml-comments-with-python/\n",
      "b'Creating TUI Applications with Textual and Python Kickstarter Launched': https://www.blog.pythonlibrary.org/2025/04/28/creating-tui-applications-with-textual-and-python-kickstarter-launched/\n",
      "b'Python 101 \\xe2\\x80\\x93 An Intro to Working with INI files Using configparser': https://www.blog.pythonlibrary.org/2025/04/09/python-101-an-intro-to-working-with-ini-files-using-configparser/\n",
      "b'How to Download the Latest Release Assets from GitHub with Python': https://www.blog.pythonlibrary.org/2025/04/07/how-to-download-the-latest-release-assets-from-github-with-python/\n",
      "b'ANN: Spring Python eBook Sale 2025': https://www.blog.pythonlibrary.org/2025/04/03/ann-spring-python-ebook-sale-2025/\n",
      "b'Textual \\xe2\\x80\\x93 How to Add Widgets to a Container': https://www.blog.pythonlibrary.org/2025/04/01/textual-how-to-add-widgets-to-a-container/\n",
      "b'Textual \\xe2\\x80\\x93 Switching Screens in Your Terminal': https://www.blog.pythonlibrary.org/2025/01/14/textual-switching-screens-in-your-terminal/\n",
      "b'An Intro to pre-commit': https://www.blog.pythonlibrary.org/2024/12/23/an-intro-to-pre-commit/\n"
     ]
    }
   ],
   "source": [
    "if __name__ == '__main__':\n",
    "    articles = get_articles()"
   ]
  },
  {
   "cell_type": "code",
   "execution_count": 141,
   "id": "fc79eb0b",
   "metadata": {},
   "outputs": [
    {
     "name": "stdout",
     "output_type": "stream",
     "text": [
      "Collecting tweepy\n",
      "  Downloading tweepy-4.16.0-py3-none-any.whl.metadata (3.3 kB)\n",
      "Collecting oauthlib<4,>=3.2.0 (from tweepy)\n",
      "  Downloading oauthlib-3.3.1-py3-none-any.whl.metadata (7.9 kB)\n",
      "Requirement already satisfied: requests<3,>=2.27.0 in c:\\users\\vedpr\\appdata\\local\\packages\\pythonsoftwarefoundation.python.3.11_qbz5n2kfra8p0\\localcache\\local-packages\\python311\\site-packages (from tweepy) (2.32.3)\n",
      "Collecting requests-oauthlib<3,>=1.2.0 (from tweepy)\n",
      "  Downloading requests_oauthlib-2.0.0-py2.py3-none-any.whl.metadata (11 kB)\n",
      "Requirement already satisfied: charset-normalizer<4,>=2 in c:\\users\\vedpr\\appdata\\local\\packages\\pythonsoftwarefoundation.python.3.11_qbz5n2kfra8p0\\localcache\\local-packages\\python311\\site-packages (from requests<3,>=2.27.0->tweepy) (3.3.2)\n",
      "Requirement already satisfied: idna<4,>=2.5 in c:\\users\\vedpr\\appdata\\local\\packages\\pythonsoftwarefoundation.python.3.11_qbz5n2kfra8p0\\localcache\\local-packages\\python311\\site-packages (from requests<3,>=2.27.0->tweepy) (3.7)\n",
      "Requirement already satisfied: urllib3<3,>=1.21.1 in c:\\users\\vedpr\\appdata\\local\\packages\\pythonsoftwarefoundation.python.3.11_qbz5n2kfra8p0\\localcache\\local-packages\\python311\\site-packages (from requests<3,>=2.27.0->tweepy) (2.2.2)\n",
      "Requirement already satisfied: certifi>=2017.4.17 in c:\\users\\vedpr\\appdata\\local\\packages\\pythonsoftwarefoundation.python.3.11_qbz5n2kfra8p0\\localcache\\local-packages\\python311\\site-packages (from requests<3,>=2.27.0->tweepy) (2024.7.4)\n",
      "Downloading tweepy-4.16.0-py3-none-any.whl (98 kB)\n",
      "Downloading oauthlib-3.3.1-py3-none-any.whl (160 kB)\n",
      "Downloading requests_oauthlib-2.0.0-py2.py3-none-any.whl (24 kB)\n",
      "Installing collected packages: oauthlib, requests-oauthlib, tweepy\n",
      "Successfully installed oauthlib-3.3.1 requests-oauthlib-2.0.0 tweepy-4.16.0\n"
     ]
    },
    {
     "name": "stderr",
     "output_type": "stream",
     "text": [
      "WARNING: Ignoring invalid distribution ~ip (C:\\Users\\vedpr\\AppData\\Local\\Packages\\PythonSoftwareFoundation.Python.3.11_qbz5n2kfra8p0\\LocalCache\\local-packages\\Python311\\site-packages)\n",
      "WARNING: Ignoring invalid distribution ~orch (C:\\Users\\vedpr\\AppData\\Local\\Packages\\PythonSoftwareFoundation.Python.3.11_qbz5n2kfra8p0\\LocalCache\\local-packages\\Python311\\site-packages)\n",
      "WARNING: Ignoring invalid distribution ~ip (C:\\Users\\vedpr\\AppData\\Local\\Packages\\PythonSoftwareFoundation.Python.3.11_qbz5n2kfra8p0\\LocalCache\\local-packages\\Python311\\site-packages)\n",
      "WARNING: Ignoring invalid distribution ~orch (C:\\Users\\vedpr\\AppData\\Local\\Packages\\PythonSoftwareFoundation.Python.3.11_qbz5n2kfra8p0\\LocalCache\\local-packages\\Python311\\site-packages)\n",
      "WARNING: Ignoring invalid distribution ~ip (C:\\Users\\vedpr\\AppData\\Local\\Packages\\PythonSoftwareFoundation.Python.3.11_qbz5n2kfra8p0\\LocalCache\\local-packages\\Python311\\site-packages)\n",
      "WARNING: Ignoring invalid distribution ~orch (C:\\Users\\vedpr\\AppData\\Local\\Packages\\PythonSoftwareFoundation.Python.3.11_qbz5n2kfra8p0\\LocalCache\\local-packages\\Python311\\site-packages)\n"
     ]
    }
   ],
   "source": [
    "! pip install tweepy"
   ]
  },
  {
   "cell_type": "code",
   "execution_count": 1,
   "id": "7b91eca9",
   "metadata": {
    "ExecuteTime": {
     "end_time": "2025-07-31T06:15:23.229963Z",
     "start_time": "2025-07-31T06:15:23.220528Z"
    }
   },
   "outputs": [
    {
     "name": "stdout",
     "output_type": "stream",
     "text": [
      "0\n"
     ]
    }
   ],
   "source": [
    "class Player:\n",
    "    # Number of players in the Game\n",
    "    count = 0\n",
    "    def __init__(self, name):\n",
    "        self.name = name\n",
    "        self.count += 1\n",
    "\n",
    "p1 = Player('Parzival')\n",
    "print(Player.count)"
   ]
  },
  {
   "cell_type": "code",
   "execution_count": 2,
   "id": "cde98639",
   "metadata": {
    "ExecuteTime": {
     "end_time": "2025-07-31T06:15:25.539770Z",
     "start_time": "2025-07-31T06:15:25.534770Z"
    }
   },
   "outputs": [
    {
     "name": "stdout",
     "output_type": "stream",
     "text": [
      "4\n"
     ]
    }
   ],
   "source": [
    "city = 'kraė'\n",
    "print(len(city))"
   ]
  },
  {
   "cell_type": "code",
   "execution_count": 4,
   "id": "3b720481",
   "metadata": {
    "ExecuteTime": {
     "end_time": "2025-07-31T06:16:25.077853Z",
     "start_time": "2025-07-31T06:16:25.069848Z"
    }
   },
   "outputs": [],
   "source": [
    "def factorial(n):\n",
    "    if n== 0  :\n",
    "        return 1\n",
    "    \n",
    "    \n",
    "    else: \n",
    "        return n * factorial(n-1)\n",
    "        \n",
    "        "
   ]
  },
  {
   "cell_type": "code",
   "execution_count": 5,
   "id": "aed5c773",
   "metadata": {
    "ExecuteTime": {
     "end_time": "2025-07-31T06:16:28.190334Z",
     "start_time": "2025-07-31T06:16:28.174640Z"
    }
   },
   "outputs": [
    {
     "data": {
      "text/plain": [
       "6"
      ]
     },
     "execution_count": 5,
     "metadata": {},
     "output_type": "execute_result"
    }
   ],
   "source": [
    "factorial(3)"
   ]
  },
  {
   "cell_type": "code",
   "execution_count": 8,
   "id": "a90fe63d",
   "metadata": {
    "ExecuteTime": {
     "end_time": "2025-08-01T05:26:21.979563Z",
     "start_time": "2025-08-01T05:26:21.931543Z"
    }
   },
   "outputs": [],
   "source": [
    "def fibonnaci(n):\n",
    "    \n",
    "    if n in [0,1]:\n",
    "        return n\n",
    "    # elif n == 1:\n",
    "    #     return 1\n",
    "    else:\n",
    "        return fibonnaci(n-1)+ fibonnaci(n-2)\n"
   ]
  },
  {
   "cell_type": "code",
   "execution_count": 9,
   "id": "a3b9ae39",
   "metadata": {
    "ExecuteTime": {
     "end_time": "2025-08-01T05:26:26.637616Z",
     "start_time": "2025-08-01T05:26:26.622753Z"
    }
   },
   "outputs": [
    {
     "data": {
      "text/plain": [
       "8"
      ]
     },
     "execution_count": 9,
     "metadata": {},
     "output_type": "execute_result"
    }
   ],
   "source": [
    "fibonnaci(6)"
   ]
  },
  {
   "cell_type": "code",
   "execution_count": 1,
   "id": "80bbc8350a0ff7d5",
   "metadata": {
    "ExecuteTime": {
     "end_time": "2025-08-01T05:33:18.179628Z",
     "start_time": "2025-08-01T05:33:18.175135Z"
    }
   },
   "outputs": [],
   "source": [
    "def sum_of_digits(n):\n",
    "   \n",
    "    if n< 10:\n",
    "      return n\n",
    "\n",
    "\n",
    "    else:\n",
    "  \n",
    "         return n%10 + sum_of_digits(n//10)"
   ]
  },
  {
   "cell_type": "code",
   "execution_count": 6,
   "id": "2368a68f91140c48",
   "metadata": {
    "ExecuteTime": {
     "end_time": "2025-08-01T05:33:18.853038Z",
     "start_time": "2025-08-01T05:33:18.831561Z"
    }
   },
   "outputs": [
    {
     "data": {
      "text/plain": [
       "0"
      ]
     },
     "execution_count": 6,
     "metadata": {},
     "output_type": "execute_result"
    }
   ],
   "source": [
    "sum_of_digits(0)"
   ]
  },
  {
   "cell_type": "code",
   "execution_count": 11,
   "id": "d97022c346538e5e",
   "metadata": {},
   "outputs": [],
   "source": [
    "def power_num(n, power):\n",
    "    assert power >=0, 'power cant be negative'\n",
    "    if power ==0:\n",
    "        return 1\n",
    "    else:\n",
    "        return n *power_num(n,power-1)"
   ]
  },
  {
   "cell_type": "code",
   "execution_count": 17,
   "id": "23f840d8",
   "metadata": {},
   "outputs": [
    {
     "data": {
      "text/plain": [
       "9"
      ]
     },
     "execution_count": 17,
     "metadata": {},
     "output_type": "execute_result"
    }
   ],
   "source": [
    "power_num(9,1)"
   ]
  },
  {
   "cell_type": "code",
   "execution_count": 20,
   "id": "2951eff2",
   "metadata": {},
   "outputs": [],
   "source": [
    "def gcd(m,n):\n",
    "    k = max(m,n)\n",
    "    l = 1\n",
    "    while l<k:\n",
    "        if l% m ==0 and l%n ==0:\n",
    "          l += m\n",
    "            \n",
    "\n",
    "\n",
    "    return l "
   ]
  },
  {
   "cell_type": "code",
   "execution_count": 44,
   "id": "90ca53a0",
   "metadata": {},
   "outputs": [],
   "source": [
    "def dec_bin(n):\n",
    "    if n == 0 :\n",
    "        return 0\n",
    "    else:\n",
    "        num = n%2\n",
    "        return num + 10*dec_bin(int(n/2))"
   ]
  },
  {
   "cell_type": "code",
   "execution_count": 45,
   "id": "09280502",
   "metadata": {},
   "outputs": [
    {
     "data": {
      "text/plain": [
       "1010"
      ]
     },
     "execution_count": 45,
     "metadata": {},
     "output_type": "execute_result"
    }
   ],
   "source": [
    "dec_bin(10) "
   ]
  },
  {
   "cell_type": "code",
   "execution_count": 46,
   "id": "8d0e9e7f",
   "metadata": {},
   "outputs": [],
   "source": [
    "def odd_out(listt):\n",
    "    new = [n for n in listt if n%2 != 0]\n",
    "    return new"
   ]
  },
  {
   "cell_type": "code",
   "execution_count": 47,
   "id": "69120e30",
   "metadata": {},
   "outputs": [
    {
     "data": {
      "text/plain": [
       "[1, 3]"
      ]
     },
     "execution_count": 47,
     "metadata": {},
     "output_type": "execute_result"
    }
   ],
   "source": [
    "odd_out([1,2,3,4])"
   ]
  },
  {
   "cell_type": "code",
   "execution_count": 78,
   "id": "dd3c76da",
   "metadata": {},
   "outputs": [],
   "source": [
    "def merge_sort(l1,l2):\n",
    "    i = 0\n",
    "    j = 0\n",
    "   \n",
    "    sorted = []\n",
    "    while i < len(l1) and j< len(l2):\n",
    "        if l1[i]> l2[j]:\n",
    "            sorted.append(l2[j])\n",
    "           \n",
    "            j+= 1\n",
    "\n",
    "        else:\n",
    "            sorted.append(l1[i])\n",
    "          \n",
    "            i += 1\n",
    "\n",
    "    while i <len(l1) :\n",
    "        sorted.append(l1[i])\n",
    "        i +=  1\n",
    "\n",
    "    while j< len(l2):\n",
    "        sorted.append(l2[j])\n",
    "        j += 1\n",
    "     \n",
    "\n",
    "    return sorted\n",
    "\n"
   ]
  },
  {
   "cell_type": "code",
   "execution_count": 79,
   "id": "429060b8",
   "metadata": {},
   "outputs": [
    {
     "data": {
      "text/plain": [
       "[1, 2, 3, 4, 5, 6]"
      ]
     },
     "execution_count": 79,
     "metadata": {},
     "output_type": "execute_result"
    }
   ],
   "source": [
    "merge_sort([1,3,5],[2,4,6])"
   ]
  },
  {
   "cell_type": "code",
   "execution_count": 80,
   "id": "110a0e31",
   "metadata": {},
   "outputs": [],
   "source": [
    "# def add_sum(l3,k):\n",
    "#     target = k\n",
    "#     i = 0\n",
    "#     j = 0\n",
    "#     ht = {}\n",
    "#     for i in len(l3):\n",
    "#         if not l3[i] in ht:\n",
    "#             ht[i] = target - l3[i]\n",
    "           \n",
    "\n",
    "#         else:\n",
    "            # if  l3[i] \n",
    "\n"
   ]
  },
  {
   "cell_type": "code",
   "execution_count": null,
   "id": "8c1ba290",
   "metadata": {},
   "outputs": [],
   "source": [
    "def find_prod(l1):\n",
    "\n",
    "   result = []\n",
    "\n",
    "   left = 1\n",
    "   for i in len(l1):\n",
    "      \n",
    "\n"
   ]
  },
  {
   "cell_type": "code",
   "execution_count": 104,
   "id": "042f5101",
   "metadata": {},
   "outputs": [],
   "source": [
    "lst = [1,0,4,3,-1,7,8]"
   ]
  },
  {
   "cell_type": "code",
   "execution_count": 105,
   "id": "0ef788ce",
   "metadata": {},
   "outputs": [
    {
     "name": "stdout",
     "output_type": "stream",
     "text": [
      "8\n",
      "7\n",
      "-1\n",
      "3\n",
      "4\n",
      "0\n",
      "1\n"
     ]
    }
   ],
   "source": [
    "for i in range(len(lst)-1,-1,-1):\n",
    "    print(lst[i])"
   ]
  },
  {
   "cell_type": "code",
   "execution_count": 110,
   "id": "0ff3a2d1",
   "metadata": {},
   "outputs": [],
   "source": [
    "def min_list(lst):\n",
    "    min = None\n",
    "    for i in range(len(lst)-1):\n",
    "        for j in range(i+1,len(lst)):\n",
    "            if lst[i] < lst[j]:\n",
    "                min = lst[i]\n",
    "\n",
    "            else:\n",
    "                continue\n",
    "            return min\n",
    "        \n",
    "    "
   ]
  },
  {
   "cell_type": "code",
   "execution_count": 111,
   "id": "7d1e044b",
   "metadata": {},
   "outputs": [
    {
     "data": {
      "text/plain": [
       "1"
      ]
     },
     "execution_count": 111,
     "metadata": {},
     "output_type": "execute_result"
    }
   ],
   "source": [
    "min_list(lst)"
   ]
  },
  {
   "cell_type": "code",
   "execution_count": 112,
   "id": "d40fa980",
   "metadata": {},
   "outputs": [],
   "source": [
    "def merge_sort(my_list):\n",
    "    if len(my_list) > 1:\n",
    "        mid = len(my_list) // 2\n",
    "        left = my_list[:mid]\n",
    "        right = my_list[mid:]\n",
    "\n",
    "        # Recursive call on each half\n",
    "        merge_sort(left)\n",
    "        merge_sort(right)\n",
    "\n",
    "        # Two iterators for traversing the two halves\n",
    "        i = 0\n",
    "        j = 0\n",
    "\n",
    "        # Iterator for the main list\n",
    "        k = 0\n",
    "\n",
    "        while i < len(left) and j < len(right):\n",
    "            if left[i] < right[j]:\n",
    "                # The value from the left half has been used\n",
    "                my_list[k] = left[i]\n",
    "                # Move the iterator forward\n",
    "                i += 1\n",
    "            else:\n",
    "                my_list[k] = right[j]\n",
    "                j += 1\n",
    "            # Move to the next slot\n",
    "            k += 1\n",
    "\n",
    "        # For all the remaining values\n",
    "        while i < len(left):\n",
    "            my_list[k] = left[i]\n",
    "            i += 1\n",
    "            k += 1\n",
    "\n",
    "        while j < len(right):\n",
    "            my_list[k] = right[j]\n",
    "            j += 1\n",
    "            k += 1"
   ]
  },
  {
   "cell_type": "code",
   "execution_count": null,
   "id": "0042184e",
   "metadata": {},
   "outputs": [],
   "source": [
    "def first_unq(lst):\n",
    "    for i in set(lst):\n",
    "        if i not in set\n"
   ]
  },
  {
   "cell_type": "code",
   "execution_count": 145,
   "id": "203869f8",
   "metadata": {},
   "outputs": [
    {
     "name": "stdout",
     "output_type": "stream",
     "text": [
      "1\n",
      "[23, 4, 5, 6, 1, 23, 4, 5, 6]\n",
      "23\n",
      "[4, 5, 6, 1, 23, 4, 5, 6]\n",
      "4\n",
      "[5, 6, 1, 23, 4, 5, 6]\n",
      "5\n",
      "[6, 1, 23, 4, 5, 6]\n",
      "6\n",
      "[1, 23, 4, 5, 6]\n",
      "1\n",
      "[23, 4, 5, 6]\n"
     ]
    },
    {
     "data": {
      "text/plain": [
       "1"
      ]
     },
     "execution_count": 145,
     "metadata": {},
     "output_type": "execute_result"
    }
   ],
   "source": [
    "first_unq([1,23,4,5,6,1,23,4,5,6])"
   ]
  },
  {
   "cell_type": "code",
   "execution_count": 161,
   "id": "b656c5a1",
   "metadata": {},
   "outputs": [],
   "source": [
    "def k_largest_remove(lst):\n",
    "    max = lst[0]\n",
    "    for i in range(len(lst)):\n",
    "        if lst[i] > max:\n",
    "            max = lst[i]\n",
    "        else:\n",
    "            continue\n",
    "\n",
    "    lst.remove(max)\n",
    "    return max\n",
    "         \n"
   ]
  },
  {
   "cell_type": "code",
   "execution_count": 162,
   "id": "bbc4906d",
   "metadata": {},
   "outputs": [
    {
     "data": {
      "text/plain": [
       "5"
      ]
     },
     "execution_count": 162,
     "metadata": {},
     "output_type": "execute_result"
    }
   ],
   "source": [
    "k_largest_remove([1,2,3,4,5])"
   ]
  },
  {
   "cell_type": "code",
   "execution_count": 163,
   "id": "57b1c6df",
   "metadata": {},
   "outputs": [],
   "source": [
    "def find_k_larg(lst,k):\n",
    "    for i in range(k-1):\n",
    "        k_largest_remove(lst)\n",
    "     \n",
    "    return k_largest_remove(lst)"
   ]
  },
  {
   "cell_type": "code",
   "execution_count": 169,
   "id": "61d5ade4",
   "metadata": {},
   "outputs": [
    {
     "data": {
      "text/plain": [
       "5"
      ]
     },
     "execution_count": 169,
     "metadata": {},
     "output_type": "execute_result"
    }
   ],
   "source": [
    "find_k_larg([1,2,3,4,5],1)"
   ]
  },
  {
   "cell_type": "code",
   "execution_count": 178,
   "id": "8cc9b01e",
   "metadata": {},
   "outputs": [],
   "source": [
    "def shift_k(lst,k):\n",
    "    shifted = []\n",
    "    for index, num in enumerate(lst):\n",
    "        #index = index + k\n",
    "        print(index,num)\n",
    "        shifted.insert(index,lst[index+k])\n",
    "\n",
    "    return shifted\n"
   ]
  },
  {
   "cell_type": "code",
   "execution_count": 180,
   "id": "17951109",
   "metadata": {},
   "outputs": [
    {
     "name": "stdout",
     "output_type": "stream",
     "text": [
      "0 11\n",
      "1 22\n",
      "2 33\n",
      "3 34\n"
     ]
    },
    {
     "data": {
      "text/plain": [
       "[11, 22, 33, 34]"
      ]
     },
     "execution_count": 180,
     "metadata": {},
     "output_type": "execute_result"
    }
   ],
   "source": [
    "shift_k([11,22,33,34],0)"
   ]
  },
  {
   "cell_type": "code",
   "execution_count": 181,
   "id": "3d36e93a",
   "metadata": {},
   "outputs": [],
   "source": [
    "test_lst = [2,5,6,7,1,3,9]"
   ]
  },
  {
   "cell_type": "code",
   "execution_count": 182,
   "id": "2c470551",
   "metadata": {},
   "outputs": [
    {
     "data": {
      "text/plain": [
       "[3, 9]"
      ]
     },
     "execution_count": 182,
     "metadata": {},
     "output_type": "execute_result"
    }
   ],
   "source": [
    "test_lst[-2:]"
   ]
  },
  {
   "cell_type": "code",
   "execution_count": 1,
   "id": "f61f143a",
   "metadata": {},
   "outputs": [],
   "source": [
    "def reaarnage(lst):\n",
    "    neg = 0\n",
    "    pos =0 \n",
    "    arranged = []\n",
    "\n",
    "    for ele in lst:\n",
    "        if ele < 0:\n",
    "            arranged.insert(neg,ele)\n",
    "            print(arranged)\n",
    "\n",
    "            pos += 1\n",
    "            neg += 1\n",
    "            print(pos,neg)\n",
    "        else:\n",
    "            arranged.insert(pos,ele)\n",
    "            print(arranged)\n",
    "            pos += 1\n",
    "            print(pos,neg)\n",
    "    return arranged\n"
   ]
  },
  {
   "cell_type": "code",
   "execution_count": 10,
   "id": "a4368806",
   "metadata": {},
   "outputs": [
    {
     "name": "stdout",
     "output_type": "stream",
     "text": [
      "[-1]\n",
      "1 1\n",
      "[-1, 2]\n",
      "2 1\n",
      "[-1, -6, 2]\n",
      "3 2\n",
      "[-1, -6, 2, 0]\n",
      "4 2\n",
      "[-1, -6, 2, 0, 4]\n",
      "5 2\n",
      "[-1, -6, -5, 2, 0, 4]\n",
      "6 3\n"
     ]
    },
    {
     "data": {
      "text/plain": [
       "[-1, -6, -5, 2, 0, 4]"
      ]
     },
     "execution_count": 10,
     "metadata": {},
     "output_type": "execute_result"
    }
   ],
   "source": [
    "reaarnage([-1,2,-6,0,4,-5])"
   ]
  },
  {
   "cell_type": "code",
   "execution_count": 21,
   "id": "928c2209",
   "metadata": {},
   "outputs": [],
   "source": [
    "def max_min(lst):\n",
    "    mid = len(lst)//2\n",
    "    result = []\n",
    "    for i in range(mid):\n",
    "        result.append(lst[-1-i])\n",
    "        result.append(lst[i])\n",
    "        # print(result)\n",
    "\n",
    "    if len(lst)/2 != 0:\n",
    "        result.append(lst[mid])\n",
    "    return result\n"
   ]
  },
  {
   "cell_type": "code",
   "execution_count": 23,
   "id": "112cc1bc",
   "metadata": {},
   "outputs": [
    {
     "data": {
      "text/plain": [
       "[9, 1, 7, 2, 5, 3, 4]"
      ]
     },
     "execution_count": 23,
     "metadata": {},
     "output_type": "execute_result"
    }
   ],
   "source": [
    "max_min([1,2,3,4,5,7,9])"
   ]
  },
  {
   "cell_type": "code",
   "execution_count": 27,
   "id": "2d039c92",
   "metadata": {},
   "outputs": [],
   "source": [
    "def max_sublst(lst):\n",
    "    #result = []\n",
    "\n",
    "    neg = [i for i in lst if i<0]\n",
    "    if len(neg) != 0:\n",
    "\n",
    "        result = [ i for i in lst if i>0 ]\n",
    "        return sum(result)\n",
    "    \n",
    "    else:\n",
    "        result = sorted(lst)\n",
    "        return sum(result[1:len(result)])"
   ]
  },
  {
   "cell_type": "code",
   "execution_count": 29,
   "id": "9be6477a",
   "metadata": {},
   "outputs": [
    {
     "data": {
      "text/plain": [
       "10"
      ]
     },
     "execution_count": 29,
     "metadata": {},
     "output_type": "execute_result"
    }
   ],
   "source": [
    "max_sublst([1,2,3,4,-1])"
   ]
  },
  {
   "cell_type": "code",
   "execution_count": null,
   "id": "d0ab0202",
   "metadata": {},
   "outputs": [],
   "source": []
  }
 ],
 "metadata": {
  "kernelspec": {
   "display_name": "Python 3",
   "language": "python",
   "name": "python3"
  },
  "language_info": {
   "codemirror_mode": {
    "name": "ipython",
    "version": 3
   },
   "file_extension": ".py",
   "mimetype": "text/x-python",
   "name": "python",
   "nbconvert_exporter": "python",
   "pygments_lexer": "ipython3",
   "version": "3.11.9"
  }
 },
 "nbformat": 4,
 "nbformat_minor": 5
}
