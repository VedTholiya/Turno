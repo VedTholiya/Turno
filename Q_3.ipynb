{
 "cells": [
  {
   "cell_type": "code",
   "execution_count": 64,
   "id": "84d57fc4",
   "metadata": {},
   "outputs": [],
   "source": [
    "import pandas as pd\n",
    "import numpy as np  "
   ]
  },
  {
   "cell_type": "code",
   "execution_count": 65,
   "id": "b88ac7f1",
   "metadata": {},
   "outputs": [],
   "source": [
    "# Load the dataset\n",
    "df = pd.read_csv(\"test_Datda.csv\")\n",
    "df = df.dropna(subset=['avg_bat_charge', 'avg_lat', 'avg_long'])  # Drop rows with critical missing values\n",
    "\n"
   ]
  },
  {
   "cell_type": "code",
   "execution_count": 66,
   "id": "798428b5",
   "metadata": {},
   "outputs": [],
   "source": [
    "# Keep only valid lat-long values\n",
    "df = df[\n",
    "    (df['avg_lat'] >= -90) & (df['avg_lat'] <= 90) &\n",
    "    (df['avg_long'] >= -180) & (df['avg_long'] <= 180)\n",
    "]\n"
   ]
  },
  {
   "cell_type": "code",
   "execution_count": 67,
   "id": "498b04a4",
   "metadata": {},
   "outputs": [],
   "source": [
    "# Create a copy of the columns with correct names\n",
    "date_cols = {\n",
    "    'yearr': 'year',\n",
    "    'mmm': 'month',\n",
    "    'ddd': 'day',\n",
    "    'hr': 'hour'\n",
    "}\n",
    "df_date = df[['yearr', 'mmm', 'ddd', 'hr']].rename(columns=date_cols)\n"
   ]
  },
  {
   "cell_type": "code",
   "execution_count": 68,
   "id": "4b3429a1",
   "metadata": {},
   "outputs": [],
   "source": [
    "# Create a timestamp column from the date columns\n",
    "df['timestamp'] = pd.to_datetime(df_date)"
   ]
  },
  {
   "cell_type": "code",
   "execution_count": 69,
   "id": "266737c3",
   "metadata": {},
   "outputs": [],
   "source": [
    "# Build timestamp\n",
    "df['half_hour_offset'] = df['half_hour'].map({'h1': 0, 'h2': 30})\n",
    "df['timestamp'] += pd.to_timedelta(df['half_hour_offset'], unit='m')\n",
    "\n",
    "# Sort data properly\n",
    "df = df.sort_values(by=['vin', 'timestamp'])\n"
   ]
  },
  {
   "cell_type": "code",
   "execution_count": 70,
   "id": "38ae3919",
   "metadata": {},
   "outputs": [],
   "source": [
    "from geopy.distance import geodesic"
   ]
  },
  {
   "cell_type": "code",
   "execution_count": 71,
   "id": "3b75d2dc",
   "metadata": {},
   "outputs": [],
   "source": [
    "def compute_distances(group):\n",
    "    distances = [0]  # First point has no previous distance\n",
    "    for i in range(1, len(group)):\n",
    "        point1 = (group.iloc[i - 1]['avg_lat'], group.iloc[i - 1]['avg_long'])\n",
    "        point2 = (group.iloc[i]['avg_lat'], group.iloc[i]['avg_long'])\n",
    "        dist = geodesic(point1, point2).km\n",
    "        distances.append(dist)\n",
    "    group['distance_km'] = distances\n",
    "    return group\n",
    "\n"
   ]
  },
  {
   "cell_type": "code",
   "execution_count": 72,
   "id": "9c2e9d05-4bb8-41b6-ade5-9f715882a00e",
   "metadata": {},
   "outputs": [
    {
     "data": {
      "text/html": [
       "<div>\n",
       "<style scoped>\n",
       "    .dataframe tbody tr th:only-of-type {\n",
       "        vertical-align: middle;\n",
       "    }\n",
       "\n",
       "    .dataframe tbody tr th {\n",
       "        vertical-align: top;\n",
       "    }\n",
       "\n",
       "    .dataframe thead th {\n",
       "        text-align: right;\n",
       "    }\n",
       "</style>\n",
       "<table border=\"1\" class=\"dataframe\">\n",
       "  <thead>\n",
       "    <tr style=\"text-align: right;\">\n",
       "      <th></th>\n",
       "      <th>vin</th>\n",
       "      <th>yearr</th>\n",
       "      <th>mmm</th>\n",
       "      <th>ddd</th>\n",
       "      <th>hr</th>\n",
       "      <th>half_hour</th>\n",
       "      <th>avg_lat</th>\n",
       "      <th>avg_long</th>\n",
       "      <th>avg_bat_charge</th>\n",
       "      <th>timestamp</th>\n",
       "      <th>half_hour_offset</th>\n",
       "    </tr>\n",
       "  </thead>\n",
       "  <tbody>\n",
       "    <tr>\n",
       "      <th>0</th>\n",
       "      <td>MD9EMCDL24F217385</td>\n",
       "      <td>2025</td>\n",
       "      <td>1</td>\n",
       "      <td>1</td>\n",
       "      <td>4</td>\n",
       "      <td>h2</td>\n",
       "      <td>27.312450</td>\n",
       "      <td>77.774628</td>\n",
       "      <td>84.000000</td>\n",
       "      <td>2025-01-01 04:30:00</td>\n",
       "      <td>30</td>\n",
       "    </tr>\n",
       "    <tr>\n",
       "      <th>101</th>\n",
       "      <td>MD9EMCDL24F217385</td>\n",
       "      <td>2025</td>\n",
       "      <td>1</td>\n",
       "      <td>1</td>\n",
       "      <td>12</td>\n",
       "      <td>h2</td>\n",
       "      <td>27.237280</td>\n",
       "      <td>77.873283</td>\n",
       "      <td>6.000000</td>\n",
       "      <td>2025-01-01 12:30:00</td>\n",
       "      <td>30</td>\n",
       "    </tr>\n",
       "    <tr>\n",
       "      <th>16000</th>\n",
       "      <td>MD9EMCDL24F217385</td>\n",
       "      <td>2025</td>\n",
       "      <td>1</td>\n",
       "      <td>1</td>\n",
       "      <td>14</td>\n",
       "      <td>h1</td>\n",
       "      <td>27.237303</td>\n",
       "      <td>77.873274</td>\n",
       "      <td>6.000000</td>\n",
       "      <td>2025-01-01 14:00:00</td>\n",
       "      <td>0</td>\n",
       "    </tr>\n",
       "    <tr>\n",
       "      <th>20933</th>\n",
       "      <td>MD9EMCDL24F217385</td>\n",
       "      <td>2025</td>\n",
       "      <td>1</td>\n",
       "      <td>1</td>\n",
       "      <td>14</td>\n",
       "      <td>h2</td>\n",
       "      <td>27.237280</td>\n",
       "      <td>77.873294</td>\n",
       "      <td>7.750000</td>\n",
       "      <td>2025-01-01 14:30:00</td>\n",
       "      <td>30</td>\n",
       "    </tr>\n",
       "    <tr>\n",
       "      <th>3833</th>\n",
       "      <td>MD9EMCDL24F217385</td>\n",
       "      <td>2025</td>\n",
       "      <td>1</td>\n",
       "      <td>1</td>\n",
       "      <td>15</td>\n",
       "      <td>h1</td>\n",
       "      <td>27.237318</td>\n",
       "      <td>77.873311</td>\n",
       "      <td>15.461538</td>\n",
       "      <td>2025-01-01 15:00:00</td>\n",
       "      <td>0</td>\n",
       "    </tr>\n",
       "  </tbody>\n",
       "</table>\n",
       "</div>"
      ],
      "text/plain": [
       "                     vin  yearr  mmm  ddd  hr half_hour    avg_lat   avg_long  \\\n",
       "0      MD9EMCDL24F217385   2025    1    1   4        h2  27.312450  77.774628   \n",
       "101    MD9EMCDL24F217385   2025    1    1  12        h2  27.237280  77.873283   \n",
       "16000  MD9EMCDL24F217385   2025    1    1  14        h1  27.237303  77.873274   \n",
       "20933  MD9EMCDL24F217385   2025    1    1  14        h2  27.237280  77.873294   \n",
       "3833   MD9EMCDL24F217385   2025    1    1  15        h1  27.237318  77.873311   \n",
       "\n",
       "       avg_bat_charge           timestamp  half_hour_offset  \n",
       "0           84.000000 2025-01-01 04:30:00                30  \n",
       "101          6.000000 2025-01-01 12:30:00                30  \n",
       "16000        6.000000 2025-01-01 14:00:00                 0  \n",
       "20933        7.750000 2025-01-01 14:30:00                30  \n",
       "3833        15.461538 2025-01-01 15:00:00                 0  "
      ]
     },
     "execution_count": 72,
     "metadata": {},
     "output_type": "execute_result"
    }
   ],
   "source": [
    "df.head()"
   ]
  },
  {
   "cell_type": "code",
   "execution_count": 73,
   "id": "7946f5f7-58fe-4179-b816-fadbdd199e49",
   "metadata": {},
   "outputs": [
    {
     "data": {
      "text/plain": [
       "vin                   MD9EMCDL24F217385\n",
       "yearr                              2025\n",
       "mmm                                   1\n",
       "ddd                                   1\n",
       "hr                                   15\n",
       "half_hour                            h1\n",
       "avg_lat                       27.237318\n",
       "avg_long                      77.873311\n",
       "avg_bat_charge                15.461538\n",
       "timestamp           2025-01-01 15:00:00\n",
       "half_hour_offset                      0\n",
       "Name: 3833, dtype: object"
      ]
     },
     "execution_count": 73,
     "metadata": {},
     "output_type": "execute_result"
    }
   ],
   "source": [
    "df.iloc[4,:]"
   ]
  },
  {
   "cell_type": "code",
   "execution_count": 74,
   "id": "02951d00",
   "metadata": {},
   "outputs": [
    {
     "name": "stderr",
     "output_type": "stream",
     "text": [
      "C:\\Users\\vedpr\\AppData\\Local\\Temp\\ipykernel_13264\\3108371090.py:2: DeprecationWarning: DataFrameGroupBy.apply operated on the grouping columns. This behavior is deprecated, and in a future version of pandas the grouping columns will be excluded from the operation. Either pass `include_groups=False` to exclude the groupings or explicitly select the grouping columns after groupby to silence this warning.\n",
      "  df = df.groupby('vin', group_keys=False).apply(compute_distances)\n"
     ]
    }
   ],
   "source": [
    "# Apply to each vehicle\n",
    "df = df.groupby('vin', group_keys=False).apply(compute_distances)\n"
   ]
  },
  {
   "cell_type": "code",
   "execution_count": 75,
   "id": "df6bb86f",
   "metadata": {},
   "outputs": [],
   "source": [
    "df['date'] = df['timestamp'].dt.date"
   ]
  },
  {
   "cell_type": "code",
   "execution_count": 76,
   "id": "fcdc6635-9652-4a76-876f-61a367d29232",
   "metadata": {},
   "outputs": [],
   "source": [
    "daily_dist = df.groupby(['vin', 'date'])['distance_km'].sum().reset_index()"
   ]
  },
  {
   "cell_type": "code",
   "execution_count": 77,
   "id": "524026f3-7220-4077-9eeb-6c05caebf0b3",
   "metadata": {},
   "outputs": [
    {
     "data": {
      "text/html": [
       "<div>\n",
       "<style scoped>\n",
       "    .dataframe tbody tr th:only-of-type {\n",
       "        vertical-align: middle;\n",
       "    }\n",
       "\n",
       "    .dataframe tbody tr th {\n",
       "        vertical-align: top;\n",
       "    }\n",
       "\n",
       "    .dataframe thead th {\n",
       "        text-align: right;\n",
       "    }\n",
       "</style>\n",
       "<table border=\"1\" class=\"dataframe\">\n",
       "  <thead>\n",
       "    <tr style=\"text-align: right;\">\n",
       "      <th></th>\n",
       "      <th>vin</th>\n",
       "      <th>date</th>\n",
       "      <th>distance_km</th>\n",
       "    </tr>\n",
       "  </thead>\n",
       "  <tbody>\n",
       "    <tr>\n",
       "      <th>0</th>\n",
       "      <td>MD9EMCDL24F217385</td>\n",
       "      <td>2025-01-01</td>\n",
       "      <td>12.863236</td>\n",
       "    </tr>\n",
       "    <tr>\n",
       "      <th>1</th>\n",
       "      <td>MD9EMCDL24F217385</td>\n",
       "      <td>2025-01-02</td>\n",
       "      <td>51.863650</td>\n",
       "    </tr>\n",
       "    <tr>\n",
       "      <th>2</th>\n",
       "      <td>MD9EMCDL24F217385</td>\n",
       "      <td>2025-01-03</td>\n",
       "      <td>86.466723</td>\n",
       "    </tr>\n",
       "    <tr>\n",
       "      <th>3</th>\n",
       "      <td>MD9EMCDL24F217385</td>\n",
       "      <td>2025-01-04</td>\n",
       "      <td>79.154597</td>\n",
       "    </tr>\n",
       "    <tr>\n",
       "      <th>4</th>\n",
       "      <td>MD9EMCDL24G217002</td>\n",
       "      <td>2025-01-01</td>\n",
       "      <td>44.836416</td>\n",
       "    </tr>\n",
       "    <tr>\n",
       "      <th>...</th>\n",
       "      <td>...</td>\n",
       "      <td>...</td>\n",
       "      <td>...</td>\n",
       "    </tr>\n",
       "    <tr>\n",
       "      <th>4943</th>\n",
       "      <td>MD9EMHDL24K217269</td>\n",
       "      <td>2025-01-04</td>\n",
       "      <td>0.098420</td>\n",
       "    </tr>\n",
       "    <tr>\n",
       "      <th>4944</th>\n",
       "      <td>MD9EMHDL24K217299</td>\n",
       "      <td>2025-01-01</td>\n",
       "      <td>78.676353</td>\n",
       "    </tr>\n",
       "    <tr>\n",
       "      <th>4945</th>\n",
       "      <td>MD9EMHDL24K217299</td>\n",
       "      <td>2025-01-02</td>\n",
       "      <td>23.279606</td>\n",
       "    </tr>\n",
       "    <tr>\n",
       "      <th>4946</th>\n",
       "      <td>MD9EMHDL24K217299</td>\n",
       "      <td>2025-01-03</td>\n",
       "      <td>54.586586</td>\n",
       "    </tr>\n",
       "    <tr>\n",
       "      <th>4947</th>\n",
       "      <td>MD9EMHDL24K217299</td>\n",
       "      <td>2025-01-04</td>\n",
       "      <td>58.274632</td>\n",
       "    </tr>\n",
       "  </tbody>\n",
       "</table>\n",
       "<p>4948 rows × 3 columns</p>\n",
       "</div>"
      ],
      "text/plain": [
       "                    vin        date  distance_km\n",
       "0     MD9EMCDL24F217385  2025-01-01    12.863236\n",
       "1     MD9EMCDL24F217385  2025-01-02    51.863650\n",
       "2     MD9EMCDL24F217385  2025-01-03    86.466723\n",
       "3     MD9EMCDL24F217385  2025-01-04    79.154597\n",
       "4     MD9EMCDL24G217002  2025-01-01    44.836416\n",
       "...                 ...         ...          ...\n",
       "4943  MD9EMHDL24K217269  2025-01-04     0.098420\n",
       "4944  MD9EMHDL24K217299  2025-01-01    78.676353\n",
       "4945  MD9EMHDL24K217299  2025-01-02    23.279606\n",
       "4946  MD9EMHDL24K217299  2025-01-03    54.586586\n",
       "4947  MD9EMHDL24K217299  2025-01-04    58.274632\n",
       "\n",
       "[4948 rows x 3 columns]"
      ]
     },
     "execution_count": 77,
     "metadata": {},
     "output_type": "execute_result"
    }
   ],
   "source": [
    "daily_dist"
   ]
  },
  {
   "cell_type": "code",
   "execution_count": 78,
   "id": "873aa41f-2151-4872-ad4f-e2f06dda5090",
   "metadata": {},
   "outputs": [],
   "source": [
    "daily_avg = daily_dist.groupby('vin')['distance_km'].mean().reset_index(name='avg_daily_km')"
   ]
  },
  {
   "cell_type": "code",
   "execution_count": 79,
   "id": "07ef7cfc-5660-41bf-bb15-d50a6a10426b",
   "metadata": {},
   "outputs": [
    {
     "data": {
      "text/html": [
       "<div>\n",
       "<style scoped>\n",
       "    .dataframe tbody tr th:only-of-type {\n",
       "        vertical-align: middle;\n",
       "    }\n",
       "\n",
       "    .dataframe tbody tr th {\n",
       "        vertical-align: top;\n",
       "    }\n",
       "\n",
       "    .dataframe thead th {\n",
       "        text-align: right;\n",
       "    }\n",
       "</style>\n",
       "<table border=\"1\" class=\"dataframe\">\n",
       "  <thead>\n",
       "    <tr style=\"text-align: right;\">\n",
       "      <th></th>\n",
       "      <th>avg_daily_km</th>\n",
       "    </tr>\n",
       "  </thead>\n",
       "  <tbody>\n",
       "    <tr>\n",
       "      <th>count</th>\n",
       "      <td>1237.000000</td>\n",
       "    </tr>\n",
       "    <tr>\n",
       "      <th>mean</th>\n",
       "      <td>77.171832</td>\n",
       "    </tr>\n",
       "    <tr>\n",
       "      <th>std</th>\n",
       "      <td>326.341681</td>\n",
       "    </tr>\n",
       "    <tr>\n",
       "      <th>min</th>\n",
       "      <td>0.000000</td>\n",
       "    </tr>\n",
       "    <tr>\n",
       "      <th>25%</th>\n",
       "      <td>11.043863</td>\n",
       "    </tr>\n",
       "    <tr>\n",
       "      <th>50%</th>\n",
       "      <td>38.612807</td>\n",
       "    </tr>\n",
       "    <tr>\n",
       "      <th>75%</th>\n",
       "      <td>63.345425</td>\n",
       "    </tr>\n",
       "    <tr>\n",
       "      <th>max</th>\n",
       "      <td>7300.253475</td>\n",
       "    </tr>\n",
       "  </tbody>\n",
       "</table>\n",
       "</div>"
      ],
      "text/plain": [
       "       avg_daily_km\n",
       "count   1237.000000\n",
       "mean      77.171832\n",
       "std      326.341681\n",
       "min        0.000000\n",
       "25%       11.043863\n",
       "50%       38.612807\n",
       "75%       63.345425\n",
       "max     7300.253475"
      ]
     },
     "execution_count": 79,
     "metadata": {},
     "output_type": "execute_result"
    }
   ],
   "source": [
    "daily_avg.describe()"
   ]
  },
  {
   "cell_type": "code",
   "execution_count": 82,
   "id": "f4793e6d-2d68-431a-b7ea-0141857a4bfc",
   "metadata": {},
   "outputs": [],
   "source": [
    "new = daily_avg[daily_avg['avg_daily_km']> 100]"
   ]
  },
  {
   "cell_type": "code",
   "execution_count": 83,
   "id": "ab7d46ee-4a61-4d7a-8ea5-2be3623d62e7",
   "metadata": {},
   "outputs": [
    {
     "data": {
      "text/html": [
       "<div>\n",
       "<style scoped>\n",
       "    .dataframe tbody tr th:only-of-type {\n",
       "        vertical-align: middle;\n",
       "    }\n",
       "\n",
       "    .dataframe tbody tr th {\n",
       "        vertical-align: top;\n",
       "    }\n",
       "\n",
       "    .dataframe thead th {\n",
       "        text-align: right;\n",
       "    }\n",
       "</style>\n",
       "<table border=\"1\" class=\"dataframe\">\n",
       "  <thead>\n",
       "    <tr style=\"text-align: right;\">\n",
       "      <th></th>\n",
       "      <th>vin</th>\n",
       "      <th>avg_daily_km</th>\n",
       "    </tr>\n",
       "  </thead>\n",
       "  <tbody>\n",
       "    <tr>\n",
       "      <th>4</th>\n",
       "      <td>MD9EMCDL24G217011</td>\n",
       "      <td>1090.979110</td>\n",
       "    </tr>\n",
       "    <tr>\n",
       "      <th>5</th>\n",
       "      <td>MD9EMCDL24G217012</td>\n",
       "      <td>262.837318</td>\n",
       "    </tr>\n",
       "    <tr>\n",
       "      <th>9</th>\n",
       "      <td>MD9EMCDL24H217017</td>\n",
       "      <td>381.181458</td>\n",
       "    </tr>\n",
       "    <tr>\n",
       "      <th>56</th>\n",
       "      <td>MD9EMHDL23B217119</td>\n",
       "      <td>553.951295</td>\n",
       "    </tr>\n",
       "    <tr>\n",
       "      <th>117</th>\n",
       "      <td>MD9EMHDL23C217209</td>\n",
       "      <td>372.047779</td>\n",
       "    </tr>\n",
       "    <tr>\n",
       "      <th>...</th>\n",
       "      <td>...</td>\n",
       "      <td>...</td>\n",
       "    </tr>\n",
       "    <tr>\n",
       "      <th>1196</th>\n",
       "      <td>MD9EMHDL24J217206</td>\n",
       "      <td>994.367215</td>\n",
       "    </tr>\n",
       "    <tr>\n",
       "      <th>1203</th>\n",
       "      <td>MD9EMHDL24J217232</td>\n",
       "      <td>411.621005</td>\n",
       "    </tr>\n",
       "    <tr>\n",
       "      <th>1218</th>\n",
       "      <td>MD9EMHDL24K217135</td>\n",
       "      <td>104.037258</td>\n",
       "    </tr>\n",
       "    <tr>\n",
       "      <th>1221</th>\n",
       "      <td>MD9EMHDL24K217153</td>\n",
       "      <td>170.831946</td>\n",
       "    </tr>\n",
       "    <tr>\n",
       "      <th>1229</th>\n",
       "      <td>MD9EMHDL24K217211</td>\n",
       "      <td>251.316791</td>\n",
       "    </tr>\n",
       "  </tbody>\n",
       "</table>\n",
       "<p>79 rows × 2 columns</p>\n",
       "</div>"
      ],
      "text/plain": [
       "                    vin  avg_daily_km\n",
       "4     MD9EMCDL24G217011   1090.979110\n",
       "5     MD9EMCDL24G217012    262.837318\n",
       "9     MD9EMCDL24H217017    381.181458\n",
       "56    MD9EMHDL23B217119    553.951295\n",
       "117   MD9EMHDL23C217209    372.047779\n",
       "...                 ...           ...\n",
       "1196  MD9EMHDL24J217206    994.367215\n",
       "1203  MD9EMHDL24J217232    411.621005\n",
       "1218  MD9EMHDL24K217135    104.037258\n",
       "1221  MD9EMHDL24K217153    170.831946\n",
       "1229  MD9EMHDL24K217211    251.316791\n",
       "\n",
       "[79 rows x 2 columns]"
      ]
     },
     "execution_count": 83,
     "metadata": {},
     "output_type": "execute_result"
    }
   ],
   "source": [
    "new"
   ]
  },
  {
   "cell_type": "code",
   "execution_count": 84,
   "id": "981e2c8b-1706-403a-976f-ca3c579f3fe6",
   "metadata": {},
   "outputs": [],
   "source": [
    "daily_avg = daily_avg[daily_avg['avg_daily_km']<150]"
   ]
  },
  {
   "cell_type": "code",
   "execution_count": 85,
   "id": "591f1ea4",
   "metadata": {},
   "outputs": [
    {
     "name": "stderr",
     "output_type": "stream",
     "text": [
      "C:\\Users\\vedpr\\AppData\\Local\\Temp\\ipykernel_13264\\927330074.py:3: SettingWithCopyWarning: \n",
      "A value is trying to be set on a copy of a slice from a DataFrame.\n",
      "Try using .loc[row_indexer,col_indexer] = value instead\n",
      "\n",
      "See the caveats in the documentation: https://pandas.pydata.org/pandas-docs/stable/user_guide/indexing.html#returning-a-view-versus-a-copy\n",
      "  daily_avg['likely_default'] = daily_avg['avg_daily_km'] < risk_threshold\n",
      "C:\\Users\\vedpr\\AppData\\Local\\Temp\\ipykernel_13264\\927330074.py:7: SettingWithCopyWarning: \n",
      "A value is trying to be set on a copy of a slice from a DataFrame.\n",
      "Try using .loc[row_indexer,col_indexer] = value instead\n",
      "\n",
      "See the caveats in the documentation: https://pandas.pydata.org/pandas-docs/stable/user_guide/indexing.html#returning-a-view-versus-a-copy\n",
      "  daily_avg['likely_default_percentile'] = daily_avg['avg_daily_km'] < bottom_cutoff\n"
     ]
    }
   ],
   "source": [
    "# Option 1: Based on absolute threshold\n",
    "risk_threshold = 15  # km/day (business logic assumption)\n",
    "daily_avg['likely_default'] = daily_avg['avg_daily_km'] < risk_threshold\n",
    "\n",
    "# Option 2: Bottom X% of drivers (e.g., bottom 20%)\n",
    "bottom_cutoff = daily_avg['avg_daily_km'].quantile(0.2)\n",
    "daily_avg['likely_default_percentile'] = daily_avg['avg_daily_km'] < bottom_cutoff\n"
   ]
  },
  {
   "cell_type": "code",
   "execution_count": 86,
   "id": "09b87620-5be0-44c7-b34c-f063518a6e5b",
   "metadata": {},
   "outputs": [],
   "source": [
    "import seaborn as sns"
   ]
  },
  {
   "cell_type": "code",
   "execution_count": 87,
   "id": "fe6b230d-cc09-4c66-8f09-b78ddb9207fe",
   "metadata": {},
   "outputs": [
    {
     "data": {
      "text/plain": [
       "<Axes: xlabel='avg_daily_km', ylabel='Count'>"
      ]
     },
     "execution_count": 87,
     "metadata": {},
     "output_type": "execute_result"
    },
    {
     "data": {
      "image/png": "[encoded data removed]",
      "text/plain": [
       "<Figure size 640x480 with 1 Axes>"
      ]
     },
     "metadata": {},
     "output_type": "display_data"
    }
   ],
   "source": [
    "sns.histplot(daily_avg['avg_daily_km'])"
   ]
  },
  {
   "cell_type": "code",
   "execution_count": 88,
   "id": "025906d3",
   "metadata": {},
   "outputs": [
    {
     "data": {
      "image/png": "[encoded data removed]",
      "text/plain": [
       "<Figure size 800x500 with 1 Axes>"
      ]
     },
     "metadata": {},
     "output_type": "display_data"
    }
   ],
   "source": [
    "import matplotlib.pyplot as plt\n",
    "\n",
    "plt.figure(figsize=(8, 5))\n",
    "plt.hist(daily_avg['avg_daily_km'], bins=20, edgecolor='k')\n",
    "plt.axvline(risk_threshold, color='red', linestyle='--', label='Risk Threshold')\n",
    "plt.title(\"Distribution of Average Daily Distance per Vehicle\")\n",
    "plt.xlabel(\"Avg Daily Distance (km)\")\n",
    "plt.ylabel(\"Vehicle Count\")\n",
    "plt.legend()\n",
    "plt.grid(True)\n",
    "plt.show()\n"
   ]
  },
  {
   "cell_type": "code",
   "execution_count": 89,
   "id": "94434f30",
   "metadata": {},
   "outputs": [
    {
     "data": {
      "text/html": [
       "<div>\n",
       "<style scoped>\n",
       "    .dataframe tbody tr th:only-of-type {\n",
       "        vertical-align: middle;\n",
       "    }\n",
       "\n",
       "    .dataframe tbody tr th {\n",
       "        vertical-align: top;\n",
       "    }\n",
       "\n",
       "    .dataframe thead th {\n",
       "        text-align: right;\n",
       "    }\n",
       "</style>\n",
       "<table border=\"1\" class=\"dataframe\">\n",
       "  <thead>\n",
       "    <tr style=\"text-align: right;\">\n",
       "      <th></th>\n",
       "      <th>vin</th>\n",
       "      <th>avg_daily_km</th>\n",
       "      <th>likely_default</th>\n",
       "      <th>likely_default_percentile</th>\n",
       "    </tr>\n",
       "  </thead>\n",
       "  <tbody>\n",
       "    <tr>\n",
       "      <th>16</th>\n",
       "      <td>MD9EMHDL22E217034</td>\n",
       "      <td>0.000000</td>\n",
       "      <td>True</td>\n",
       "      <td>True</td>\n",
       "    </tr>\n",
       "    <tr>\n",
       "      <th>17</th>\n",
       "      <td>MD9EMHDL22E217035</td>\n",
       "      <td>0.143996</td>\n",
       "      <td>True</td>\n",
       "      <td>True</td>\n",
       "    </tr>\n",
       "    <tr>\n",
       "      <th>21</th>\n",
       "      <td>MD9EMHDL22E217060</td>\n",
       "      <td>0.000000</td>\n",
       "      <td>True</td>\n",
       "      <td>True</td>\n",
       "    </tr>\n",
       "    <tr>\n",
       "      <th>22</th>\n",
       "      <td>MD9EMHDL22E217062</td>\n",
       "      <td>0.000000</td>\n",
       "      <td>True</td>\n",
       "      <td>True</td>\n",
       "    </tr>\n",
       "    <tr>\n",
       "      <th>23</th>\n",
       "      <td>MD9EMHDL22E217063</td>\n",
       "      <td>3.843679</td>\n",
       "      <td>True</td>\n",
       "      <td>True</td>\n",
       "    </tr>\n",
       "    <tr>\n",
       "      <th>...</th>\n",
       "      <td>...</td>\n",
       "      <td>...</td>\n",
       "      <td>...</td>\n",
       "      <td>...</td>\n",
       "    </tr>\n",
       "    <tr>\n",
       "      <th>1136</th>\n",
       "      <td>MD9EMHDL24H217088</td>\n",
       "      <td>0.000000</td>\n",
       "      <td>True</td>\n",
       "      <td>True</td>\n",
       "    </tr>\n",
       "    <tr>\n",
       "      <th>1145</th>\n",
       "      <td>MD9EMHDL24H217167</td>\n",
       "      <td>0.650318</td>\n",
       "      <td>True</td>\n",
       "      <td>True</td>\n",
       "    </tr>\n",
       "    <tr>\n",
       "      <th>1148</th>\n",
       "      <td>MD9EMHDL24H217208</td>\n",
       "      <td>0.000000</td>\n",
       "      <td>True</td>\n",
       "      <td>True</td>\n",
       "    </tr>\n",
       "    <tr>\n",
       "      <th>1205</th>\n",
       "      <td>MD9EMHDL24J217234</td>\n",
       "      <td>0.000000</td>\n",
       "      <td>True</td>\n",
       "      <td>True</td>\n",
       "    </tr>\n",
       "    <tr>\n",
       "      <th>1235</th>\n",
       "      <td>MD9EMHDL24K217269</td>\n",
       "      <td>0.113362</td>\n",
       "      <td>True</td>\n",
       "      <td>True</td>\n",
       "    </tr>\n",
       "  </tbody>\n",
       "</table>\n",
       "<p>238 rows × 4 columns</p>\n",
       "</div>"
      ],
      "text/plain": [
       "                    vin  avg_daily_km  likely_default  \\\n",
       "16    MD9EMHDL22E217034      0.000000            True   \n",
       "17    MD9EMHDL22E217035      0.143996            True   \n",
       "21    MD9EMHDL22E217060      0.000000            True   \n",
       "22    MD9EMHDL22E217062      0.000000            True   \n",
       "23    MD9EMHDL22E217063      3.843679            True   \n",
       "...                 ...           ...             ...   \n",
       "1136  MD9EMHDL24H217088      0.000000            True   \n",
       "1145  MD9EMHDL24H217167      0.650318            True   \n",
       "1148  MD9EMHDL24H217208      0.000000            True   \n",
       "1205  MD9EMHDL24J217234      0.000000            True   \n",
       "1235  MD9EMHDL24K217269      0.113362            True   \n",
       "\n",
       "      likely_default_percentile  \n",
       "16                         True  \n",
       "17                         True  \n",
       "21                         True  \n",
       "22                         True  \n",
       "23                         True  \n",
       "...                         ...  \n",
       "1136                       True  \n",
       "1145                       True  \n",
       "1148                       True  \n",
       "1205                       True  \n",
       "1235                       True  \n",
       "\n",
       "[238 rows x 4 columns]"
      ]
     },
     "execution_count": 89,
     "metadata": {},
     "output_type": "execute_result"
    }
   ],
   "source": [
    "daily_avg[daily_avg['likely_default_percentile']].drop_duplicates(subset='vin')"
   ]
  },
  {
   "cell_type": "code",
   "execution_count": 18,
   "id": "1f4f8c5a",
   "metadata": {},
   "outputs": [],
   "source": [
    "default_vehicles = daily_avg[daily_avg['likely_default'] == True]\n",
    "\n",
    "# Save to Excel\n",
    "default_vehicles.to_excel(\"Q3_Default_Vehicles.xlsx\", index=False)\n"
   ]
  },
  {
   "cell_type": "code",
   "execution_count": null,
   "id": "f45eae41",
   "metadata": {},
   "outputs": [],
   "source": []
  }
 ],
 "metadata": {
  "kernelspec": {
   "display_name": "Python 3 (ipykernel)",
   "language": "python",
   "name": "python3"
  },
  "language_info": {
   "codemirror_mode": {
    "name": "ipython",
    "version": 3
   },
   "file_extension": ".py",
   "mimetype": "text/x-python",
   "name": "python",
   "nbconvert_exporter": "python",
   "pygments_lexer": "ipython3",
   "version": "3.11.9"
  }
 },
 "nbformat": 4,
 "nbformat_minor": 5
}
